{
 "cells": [
  {
   "cell_type": "code",
   "execution_count": 11,
   "metadata": {},
   "outputs": [],
   "source": [
    "def diagonalSum(mat: list[list[int]]) -> int:\n",
    "    length = len(mat)\n",
    "    sum = 0\n",
    "    for i in range(length):\n",
    "        sum += (mat[i][i] + mat[i][length-i-1])\n",
    "    # diagonal_sum = sum(mat[i][i] + mat[i][length - i - 1] for i in range(length))\n",
    "    return sum if (length%2==0) else sum - mat[(length-1)//2][(length-1)//2]"
   ]
  },
  {
   "cell_type": "code",
   "execution_count": 13,
   "metadata": {},
   "outputs": [],
   "source": [
    "mat = [[1,1,1,1],\n",
    "            [1,1,1,1],\n",
    "            [1,1,1,1],\n",
    "            [1,1,1,1]]"
   ]
  },
  {
   "cell_type": "code",
   "execution_count": 14,
   "metadata": {},
   "outputs": [
    {
     "data": {
      "text/plain": [
       "8"
      ]
     },
     "execution_count": 14,
     "metadata": {},
     "output_type": "execute_result"
    }
   ],
   "source": [
    "diagonalSum(mat)"
   ]
  }
 ],
 "metadata": {
  "kernelspec": {
   "display_name": "base",
   "language": "python",
   "name": "python3"
  },
  "language_info": {
   "codemirror_mode": {
    "name": "ipython",
    "version": 3
   },
   "file_extension": ".py",
   "mimetype": "text/x-python",
   "name": "python",
   "nbconvert_exporter": "python",
   "pygments_lexer": "ipython3",
   "version": "3.10.10"
  }
 },
 "nbformat": 4,
 "nbformat_minor": 2
}
