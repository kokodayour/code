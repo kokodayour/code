{
 "cells": [
  {
   "cell_type": "markdown",
   "metadata": {},
   "source": [
    "![](.\\images\\42接雨水1.png)"
   ]
  },
  {
   "cell_type": "code",
   "execution_count": 20,
   "metadata": {},
   "outputs": [
    {
     "data": {
      "text/plain": [
       "11"
      ]
     },
     "execution_count": 20,
     "metadata": {},
     "output_type": "execute_result"
    }
   ],
   "source": [
    "# 42.接雨水\n",
    "def trap(height:list[int])->int: # 单调栈解法 横着接雨水\n",
    "\n",
    "    ans = 0\n",
    "    st = []\n",
    "\n",
    "    for i,h in enumerate(height):\n",
    "\n",
    "        while st and h > height[st[-1]]:\n",
    "            bottom = height[st.pop()]\n",
    "            if not st: # 如果中间没有柱子的话(有凹槽) # if st...\n",
    "                break\n",
    "            left = st[-1] \n",
    "            # 先计算min(左右两根柱子高度)与底部柱子高度之差\n",
    "            # 再计算左右两根柱子的宽度差\n",
    "            diff_h = min(h, height[left]) - bottom\n",
    "            diff_w = i - left - 1\n",
    "            ans += diff_h * diff_w\n",
    "\n",
    "        st.append(i)\n",
    "\n",
    "    return ans\n",
    "\n",
    "def trap1(height:list[int])->int: # 双重遍历 竖着接雨水 每根柱子所能接到的雨水取决于当前柱子左边和右边最高柱子\n",
    "\n",
    "    ans = 0\n",
    "    n = len(height)\n",
    "    left_max_h = [0] * n\n",
    "    right_max_h = [0] * n\n",
    "\n",
    "    for i in range(1,n):\n",
    "        # 如果左边柱子的高度大于左边最高柱子的高度 则更新\n",
    "        if height[i-1]>left_max_h[i-1]:\n",
    "            left_max_h[i] = height[i-1]\n",
    "        else:\n",
    "            left_max_h[i] = left_max_h[i-1]\n",
    "        right_max_h[i] = max(right_max_h[i-1], height[i-1])\n",
    "    \n",
    "    for i in range(1,n):\n",
    "        diff_h = min(left_max_h[i], right_max_h[i]) - height[i]\n",
    "        ans += max(0, diff_h)\n",
    "\n",
    "    return ans\n",
    "    \n",
    "\n",
    "# height = [4,2,0,3,2,5]\n",
    "height = [0,1,0,2,1,0,1,3,2,1,2,1]\n",
    "trap1(height)"
   ]
  }
 ],
 "metadata": {
  "kernelspec": {
   "display_name": "base",
   "language": "python",
   "name": "python3"
  },
  "language_info": {
   "codemirror_mode": {
    "name": "ipython",
    "version": 3
   },
   "file_extension": ".py",
   "mimetype": "text/x-python",
   "name": "python",
   "nbconvert_exporter": "python",
   "pygments_lexer": "ipython3",
   "version": "3.10.10"
  }
 },
 "nbformat": 4,
 "nbformat_minor": 2
}
