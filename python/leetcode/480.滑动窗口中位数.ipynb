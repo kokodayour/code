{
 "cells": [
  {
   "cell_type": "code",
   "execution_count": 9,
   "metadata": {},
   "outputs": [],
   "source": [
    "import heapq\n",
    "def medianSlidingWindow(nums: list[int], k: int) -> list[float]:\n",
    "    ans = []\n",
    "    if k&1 == 1:\n",
    "        for i in range(len(nums)-k+1):\n",
    "            window = nums[i:i+k]\n",
    "            heapq.heapify(window)\n",
    "            ans.append(heapq.nlargest((k+1)//2,window)[-1])\n",
    "    \n",
    "    else:\n",
    "        for i in range(len(nums)-k+1):\n",
    "            window = nums[i:i+k]\n",
    "            heapq.heapify(window)\n",
    "            ans.append(sum(heapq.nlargest(k//2 + 1, window)[-2:])/2)\n",
    "    return ans\n",
    "        "
   ]
  },
  {
   "cell_type": "code",
   "execution_count": null,
   "metadata": {},
   "outputs": [],
   "source": [
    "import heapq\n",
    "from collections import defaultdict\n",
    "\n",
    "def medianSlidingWindow(self, nums, k):\n",
    "    # 小顶堆存储较大的一半数，用负数模拟大顶堆存储较小的一半数\n",
    "    small = []  # 模拟大顶堆\n",
    "    big = []    # 小顶堆\n",
    "    mp = defaultdict(int)\n",
    "\n",
    "    def get(k):\n",
    "        if k % 2:\n",
    "            return -small[0]\n",
    "        else:\n",
    "            return (-small[0] + big[0]) / 2\n",
    "\n",
    "    # 初始化前 k 个数\n",
    "    for i in range(k):\n",
    "        heapq.heappush(small, -nums[i])\n",
    "    for i in range(k // 2):\n",
    "        heapq.heappush(big, -heapq.heappop(small))\n",
    "\n",
    "    ans = [get(k)]\n",
    "\n",
    "    for i in range(k, len(nums)):\n",
    "        balance = 0\n",
    "        l = nums[i - k]\n",
    "        mp[l] += 1\n",
    "\n",
    "        # 判断移除的数在哪个堆中\n",
    "        if small and l <= -small[0]:\n",
    "            balance -= 1\n",
    "        else:\n",
    "            balance += 1\n",
    "\n",
    "        # 判断新加入的数应该放入哪个堆\n",
    "        if small and nums[i] <= -small[0]:\n",
    "            heapq.heappush(small, -nums[i])\n",
    "            balance += 1\n",
    "        else:\n",
    "            heapq.heappush(big, nums[i])\n",
    "            balance -= 1\n",
    "\n",
    "        # 平衡两个堆的大小\n",
    "        if balance > 0:\n",
    "            heapq.heappush(big, -heapq.heappop(small))\n",
    "        if balance < 0:\n",
    "            heapq.heappush(small, -heapq.heappop(big))\n",
    "\n",
    "        # 移除延迟删除的元素\n",
    "        while small and mp[-small[0]] > 0:\n",
    "            mp[-small[0]] -= 1\n",
    "            heapq.heappop(small)\n",
    "        while big and mp[big[0]] > 0:\n",
    "            mp[big[0]] -= 1\n",
    "            heapq.heappop(big)\n",
    "\n",
    "        ans.append(get(k))\n",
    "\n",
    "    return ans"
   ]
  },
  {
   "cell_type": "code",
   "execution_count": 10,
   "metadata": {},
   "outputs": [
    {
     "data": {
      "text/plain": [
       "[1, -1, -1, 3, 5, 6]"
      ]
     },
     "execution_count": 10,
     "metadata": {},
     "output_type": "execute_result"
    }
   ],
   "source": [
    "nums = [1,3,-1,-3,5,3,6,7]\n",
    "k = 3\n",
    "medianSlidingWindow(nums, k)"
   ]
  }
 ],
 "metadata": {
  "kernelspec": {
   "display_name": "base",
   "language": "python",
   "name": "python3"
  },
  "language_info": {
   "codemirror_mode": {
    "name": "ipython",
    "version": 3
   },
   "file_extension": ".py",
   "mimetype": "text/x-python",
   "name": "python",
   "nbconvert_exporter": "python",
   "pygments_lexer": "ipython3",
   "version": "3.12.3"
  }
 },
 "nbformat": 4,
 "nbformat_minor": 2
}
