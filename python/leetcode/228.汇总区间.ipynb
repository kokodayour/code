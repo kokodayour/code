{
 "cells": [
  {
   "cell_type": "code",
   "execution_count": null,
   "metadata": {},
   "outputs": [],
   "source": [
    "# 滑动窗口\n",
    "def summaryRanges(nums: list[int]) -> list[str]:\n",
    "    cnt = len(nums)\n",
    "    ans = []\n",
    "    if cnt == 0:\n",
    "        return None\n",
    "    else:\n",
    "        left = nums[0]\n",
    "        for right in range(cnt-1):\n",
    "            if nums[right] == nums[right + 1]:\n",
    "                "
   ]
  },
  {
   "cell_type": "code",
   "execution_count": null,
   "metadata": {},
   "outputs": [],
   "source": [
    "# 如果循环涉及到迭代对象中的多个元素, 那么使用for i in range(len())"
   ]
  }
 ],
 "metadata": {
  "kernelspec": {
   "display_name": "base",
   "language": "python",
   "name": "python3"
  },
  "language_info": {
   "codemirror_mode": {
    "name": "ipython",
    "version": 3
   },
   "file_extension": ".py",
   "mimetype": "text/x-python",
   "name": "python",
   "nbconvert_exporter": "python",
   "pygments_lexer": "ipython3",
   "version": "3.12.3"
  }
 },
 "nbformat": 4,
 "nbformat_minor": 2
}
