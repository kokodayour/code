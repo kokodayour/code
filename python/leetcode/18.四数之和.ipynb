{
 "cells": [
  {
   "cell_type": "code",
   "execution_count": 13,
   "metadata": {},
   "outputs": [],
   "source": [
    "# 同第十五题\n",
    "def fourSum(nums: list[int], target: int) -> list[list[int]]:\n",
    "    n = len(nums)\n",
    "    ans = []\n",
    "    nums.sort()\n",
    "    for i in range(n-3):\n",
    "        # 剪枝操作\n",
    "        if nums[i] + nums[i+1] + nums[i+2] + nums[i+3] > target:\n",
    "            break\n",
    "        if nums[i] + nums[-1] + nums[-2] + nums[-3] < target:\n",
    "            continue # 后面的i可能有解 不能直接break\n",
    "        if i > 0 and nums[i] == nums[i-1]:\n",
    "            continue\n",
    "        for j in range(i+1,n-2):\n",
    "            if nums[i] + nums[j] + nums[j+1] + nums[j+2] > target:\n",
    "                break\n",
    "            if nums[i] + nums[j] + nums[-1] + nums[-2] < target:\n",
    "                continue\n",
    "            if j > i+1 and nums[j] == nums [j-1]:\n",
    "                continue\n",
    "            left, right = j+1,n-1\n",
    "            while left<right:\n",
    "                sum = nums[i]+nums[j]+nums[left]+nums[right]\n",
    "                if sum<target:\n",
    "                    left+=1\n",
    "                elif sum>target:\n",
    "                    right-=1\n",
    "                else:\n",
    "                    ans.append([nums[i],nums[j],nums[left],nums[right]])\n",
    "                    left+=1\n",
    "                    while left<right and nums[left]==nums[left-1]:\n",
    "                        left+=1\n",
    "                    right-=1\n",
    "                    while right>left and nums[right]==nums[right+1]:\n",
    "                        right-=1\n",
    "    return ans"
   ]
  },
  {
   "cell_type": "code",
   "execution_count": 12,
   "metadata": {},
   "outputs": [
    {
     "data": {
      "text/plain": [
       "[[-2, -1, 1, 2], [-1, -1, 1, 1]]"
      ]
     },
     "execution_count": 12,
     "metadata": {},
     "output_type": "execute_result"
    }
   ],
   "source": [
    "nums = [-2,-1,-1,1,1,2,2]\n",
    "target = 0\n",
    "fourSum(nums,target)"
   ]
  }
 ],
 "metadata": {
  "kernelspec": {
   "display_name": "base",
   "language": "python",
   "name": "python3"
  },
  "language_info": {
   "codemirror_mode": {
    "name": "ipython",
    "version": 3
   },
   "file_extension": ".py",
   "mimetype": "text/x-python",
   "name": "python",
   "nbconvert_exporter": "python",
   "pygments_lexer": "ipython3",
   "version": "3.10.10"
  }
 },
 "nbformat": 4,
 "nbformat_minor": 2
}
