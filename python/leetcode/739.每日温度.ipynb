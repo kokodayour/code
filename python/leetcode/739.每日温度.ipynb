{
 "cells": [
  {
   "cell_type": "code",
   "execution_count": 1,
   "metadata": {},
   "outputs": [
    {
     "data": {
      "text/plain": [
       "[1, 2, 1, 4, 3, 1, 1, 0, 0, 1, 0, 0]"
      ]
     },
     "execution_count": 1,
     "metadata": {},
     "output_type": "execute_result"
    }
   ],
   "source": [
    "# 向右查找第一个大于当前元素的元素,计算它们之间的位置差\n",
    "def dailyTemperatures(temperatures:list[int])->list[int]: #暴力解法 超出时间限制\n",
    "\n",
    "    index = len(temperatures)\n",
    "    result = [0] * index\n",
    "\n",
    "    for i in range(index):\n",
    "\n",
    "        for j in range(i+1,index):\n",
    "            if temperatures[j] > temperatures[i]:\n",
    "                result[i] = j - i\n",
    "                break\n",
    "\n",
    "    return result\n",
    "\n",
    "def dailyTemperatures1(temperatures: list[int]) -> list[int]:\n",
    "\n",
    "    n = len(temperatures)\n",
    "    result = [0] * n\n",
    "    stack = []\n",
    "\n",
    "    for i in range(n):\n",
    "\n",
    "        # 当栈不为空并且索引元素大于栈顶元素(stack[-1])时\n",
    "        # 循环遍历 把小于索引元素的栈元素全部弹出来 并计算它们之间的索引之差\n",
    "        while stack and temperatures[i] > temperatures[stack[-1]]:\n",
    "            # 弹出栈顶元素索引\n",
    "            j = stack.pop()\n",
    "            # 索引元素为两者索引之差\n",
    "            result[j] = i - j\n",
    "\n",
    "        # 当索引元素小于栈顶元素时 索引入栈\n",
    "        stack.append(i)\n",
    "        \n",
    "    return result\n",
    "\n",
    "def dailyTemperatures2(temperatures:list[int]) -> list[int]:\n",
    "\n",
    "    n = len(temperatures)\n",
    "    ans = [0] * n\n",
    "    st = []\n",
    "\n",
    "    for i,t in enumerate(temperatures):\n",
    "\n",
    "        while st and t > temperatures[st[-1]]:\n",
    "            j = st.pop()\n",
    "            ans[j] = i - j\n",
    "\n",
    "        st.append(i)\n",
    "\n",
    "    return ans\n",
    "\n",
    "def dailyTemperatures3(temperatures:list[int]) -> list[int]:\n",
    "    pass\n",
    "    \n",
    "\n",
    "# temperatures = [30,60,90]\n",
    "temperatures = [0,1,0,2,1,0,1,3,2,1,2,1]\n",
    "# temperatures = [30,40,50,60]\n",
    "dailyTemperatures2(temperatures)"
   ]
  }
 ],
 "metadata": {
  "kernelspec": {
   "display_name": "base",
   "language": "python",
   "name": "python3"
  },
  "language_info": {
   "codemirror_mode": {
    "name": "ipython",
    "version": 3
   },
   "file_extension": ".py",
   "mimetype": "text/x-python",
   "name": "python",
   "nbconvert_exporter": "python",
   "pygments_lexer": "ipython3",
   "version": "3.10.10"
  }
 },
 "nbformat": 4,
 "nbformat_minor": 2
}
