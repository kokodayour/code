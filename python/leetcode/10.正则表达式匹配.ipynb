{
 "cells": [
  {
   "cell_type": "code",
   "execution_count": null,
   "metadata": {},
   "outputs": [],
   "source": [
    "# '.'匹配任意单个字符 \n",
    "# '*'匹配零个或多个前一个字符\n",
    "# 将模板p扩充到和字符串s一样的长度再逐一比较\n",
    "def isMatch(s:str,p:str) -> bool:\n",
    "    p_index = 0\n",
    "    p_elem = []\n",
    "    repeat = []\n",
    "    star_num = 0\n",
    "    for index, elem in enumerate(p):\n",
    "        if elem!='*':\n",
    "            p_elem.append(elem)\n",
    "        # 如果这个元素是*的话 那么前一个元素可能会有重复 但不知道会重复多少次\n",
    "        # repeat数组用来记录哪个元素会进行重复操作\n",
    "        else:\n",
    "            repeat.append(index-1-star_num)\n",
    "            star_num+=1\n",
    "    for elem in s:\n",
    "        if elem != p_elem[p_index]:\n",
    "            if p_elem[p_index] != '.':\n",
    "                # 既不相等 也不是. 同时也不可重复 则不能匹配\n",
    "                if p_index not in repeat:\n",
    "                    return False\n",
    "                # 既不相等 也不是. 但可重复 则该元素去掉再对后面的进行判断\n",
    "                else:\n",
    "                    \n"
   ]
  },
  {
   "cell_type": "code",
   "execution_count": 4,
   "metadata": {},
   "outputs": [
    {
     "data": {
      "text/plain": [
       "['c', 'a', 'b']"
      ]
     },
     "execution_count": 4,
     "metadata": {},
     "output_type": "execute_result"
    }
   ],
   "source": [
    "p_elem = []\n",
    "repeat = []\n",
    "star_num = 0\n",
    "for index, elem in enumerate('c*a*b'):\n",
    "    if elem!='*':\n",
    "        p_elem.append(elem)\n",
    "    # 如果这个元素是*的话 那么前一个元素可能会有重复 但不知道会重复多少次\n",
    "    # repeat数组用来记录哪个元素会进行重复操作\n",
    "    else:\n",
    "        repeat.append(index-1-star_num)\n",
    "        star_num+=1\n",
    "p_elem"
   ]
  }
 ],
 "metadata": {
  "kernelspec": {
   "display_name": "base",
   "language": "python",
   "name": "python3"
  },
  "language_info": {
   "codemirror_mode": {
    "name": "ipython",
    "version": 3
   },
   "file_extension": ".py",
   "mimetype": "text/x-python",
   "name": "python",
   "nbconvert_exporter": "python",
   "pygments_lexer": "ipython3",
   "version": "3.10.10"
  }
 },
 "nbformat": 4,
 "nbformat_minor": 2
}
