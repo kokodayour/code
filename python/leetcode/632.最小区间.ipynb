{
 "cells": [
  {
   "cell_type": "code",
   "execution_count": null,
   "metadata": {},
   "outputs": [],
   "source": [
    "from collections import defaultdict\n",
    "def smallestRange(nums: list[list[int]]) -> list[int]:\n",
    "    # 记录每个值对应的列表索引\n",
    "    interval_freq = defaultdict(list)\n",
    "    for id, i in enumerate(nums):\n",
    "        for ii in i:\n",
    "            interval_freq[ii].append(id)\n",
    "    \n",
    "    # 将所有唯一值排序\n",
    "    a = sorted(interval_freq.keys())\n",
    "    n = len(nums)\n",
    "    ans = [0, float('inf')]\n",
    "    left = 0\n",
    "    # 记录当前区间中每个列表的出现次数\n",
    "    freq = defaultdict(int)\n",
    "\n",
    "    for right in a:\n",
    "        # 将当前值对应的列表索引加入频率统计\n",
    "        for idx in interval_freq[right]:\n",
    "            freq[idx] += 1\n",
    "\n",
    "        \n",
    "        # 当当前区间包含所有列表时，尝试缩小左边界\n",
    "        while len(freq) == n and a[left] <= right:\n",
    "            # 更新最小区间\n",
    "            if right - a[left] < ans[1] - ans[0]:\n",
    "                ans = [a[left], right]\n",
    "            \n",
    "            # 移动左边界\n",
    "            for idx in interval_freq[a[left]]:\n",
    "                freq[idx] -= 1\n",
    "                if freq[idx] == 0:\n",
    "                    del freq[idx]\n",
    "            left += 1\n",
    "\n",
    "    return ans"
   ]
  },
  {
   "cell_type": "code",
   "execution_count": null,
   "metadata": {},
   "outputs": [],
   "source": [
    "import heapq\n",
    "def smallestRange(nums: list[list[int]]) -> list[int]:\n",
    "    # 把每个列表的第一个元素入堆并堆化 第3个元素存储元素在列表中的位置\n",
    "    h = [(arr[0], i, 0) for i, arr in enumerate(nums)]\n",
    "    heapq.heapify(h)\n",
    "\n",
    "    ans_l = h[0][0] # 第一个合法区间的左端点\n",
    "    ans_r = r = max(arr[0] for arr in nums) # 第一个合法区间的右端点\n",
    "    while h[0][2] + 1 < len(nums[h[0][1]]): # 堆顶列表有下一个元素\n",
    "        _, i, j = h[0]\n",
    "        x = nums[i][j+1] # 堆顶列表的下一个元素\n",
    "        heapq.heapreplace(h, (x, i, j+1)) # 替换堆顶\n",
    "        r = max(r, x) # 更新合法区间的右端点\n",
    "        l = h[0][0] # 当前合法区间的左端点\n",
    "        if r - l < ans_r - ans_l:\n",
    "            ans_l, ans_r = l, r\n",
    "    return [ans_l, ans_r]"
   ]
  },
  {
   "cell_type": "code",
   "execution_count": null,
   "metadata": {},
   "outputs": [],
   "source": [
    "def smallestRange(nums: list[list[int]]) -> list[int]:\n",
    "    pairs = sorted((x, i) for (i, arr) in enumerate(nums) for x in arr)\n",
    "    ans_l, ans_r = -float('inf'), float('inf')\n",
    "    empty = len(nums)\n",
    "    cnt = [0]*empty\n",
    "    left = 0\n",
    "    for r, i in pairs:\n",
    "        if cnt[i] == 0: # 意味着原窗口中不包含第i个列表中的元素 滑动到该元素时将新列表包进去了\n",
    "            empty -= 1\n",
    "        cnt[i] += 1\n",
    "        while empty == 0: # 每个列表都至少包含一个树\n",
    "            l, i = pairs[left]\n",
    "            if r - l < ans_r - ans_l:\n",
    "                ans_l, ans_r = l, r\n",
    "            cnt[i] -= 1\n",
    "            if cnt[i] == 0: # 不包含nums[i]的数字 左端点所在列表的唯一元素滑出去了\n",
    "                empty += 1\n",
    "            left += 1\n",
    "    return [ans_l, ans_r]"
   ]
  },
  {
   "cell_type": "code",
   "execution_count": 67,
   "metadata": {},
   "outputs": [
    {
     "data": {
      "text/plain": [
       "[-1, 1]"
      ]
     },
     "execution_count": 67,
     "metadata": {},
     "output_type": "execute_result"
    }
   ],
   "source": [
    "nums = [[-5,-4,-3,-2,-1],[1,2,3,4,5]]\n",
    "smallestRange(nums)"
   ]
  }
 ],
 "metadata": {
  "kernelspec": {
   "display_name": "base",
   "language": "python",
   "name": "python3"
  },
  "language_info": {
   "codemirror_mode": {
    "name": "ipython",
    "version": 3
   },
   "file_extension": ".py",
   "mimetype": "text/x-python",
   "name": "python",
   "nbconvert_exporter": "python",
   "pygments_lexer": "ipython3",
   "version": "3.12.3"
  }
 },
 "nbformat": 4,
 "nbformat_minor": 2
}
