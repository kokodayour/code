{
 "cells": [
  {
   "cell_type": "code",
   "execution_count": 37,
   "metadata": {},
   "outputs": [],
   "source": [
    "# 先对字符串进行预处理, 转列表, 删空格\n",
    "# 分别将数字和运算符压入不同的列表之中\n",
    "def calculate(s: str):\n",
    "    s = list(s)\n",
    "    s = [item for item in s if item.strip() != '']\n",
    "    digit = []\n",
    "    operator = []\n",
    "\n",
    "    # 实现多位数的读取\n",
    "    i = 0\n",
    "    while i < len(s):\n",
    "        if s[i].isdigit():\n",
    "            while i + 1 < len(s) and s[i+1].isdigit():\n",
    "                s[i] += s[i+1]\n",
    "                s.pop(i+1)\n",
    "            digit.append(int(s[i]))\n",
    "        else:\n",
    "            operator.append(s[i])\n",
    "        i += 1\n",
    "\n",
    "    # 计算乘除, 迭代到了乘或除号, 则计算出的新结果替代数字表中相应元素, 并删除计算过的运算符和数字表中的下一位元素\n",
    "    i = 0\n",
    "    while i < len(operator):\n",
    "        if operator[i] == '*':\n",
    "            digit[i] *= digit[i+1]\n",
    "            operator.pop(i)\n",
    "            digit.pop(i+1)\n",
    "        elif operator[i] == '/':\n",
    "            digit[i] //= digit[i+1]\n",
    "            operator.pop(i)\n",
    "            digit.pop(i+1)\n",
    "        else:\n",
    "            i += 1\n",
    "\n",
    "    # 同上 计算加减\n",
    "    i = 0\n",
    "    while i < len(operator):\n",
    "        if operator[i] == '+':\n",
    "            digit[i] += digit[i+1]\n",
    "            operator.pop(i)\n",
    "            digit.pop(i+1)\n",
    "        elif operator[i] == '-':\n",
    "            digit[i] -= digit[i+1]\n",
    "            operator.pop(i)\n",
    "            digit.pop(i+1)\n",
    "        else:\n",
    "            i += 1\n",
    "    return digit[0]"
   ]
  },
  {
   "cell_type": "code",
   "execution_count": null,
   "metadata": {},
   "outputs": [],
   "source": [
    "def calculate(s: str) -> int:\n",
    "    stack = []\n",
    "    num = 0\n",
    "    operator = '+' # 默认第一个数字前的运算符是空格\n",
    "    for i, char in enumerate(s):\n",
    "        # 前一个if实现多位数(如'4321')的提取, 后一个if实现运算符的提取\n",
    "        if char.isdigit():\n",
    "            num = num * 10 + int(char)\n",
    "        if (not char.isdigit() and not char.isspace()) or i == len(s) - 1:\n",
    "            if operator == '+':\n",
    "                stack.append(num)\n",
    "            elif operator == '-':\n",
    "                stack.append(-num)\n",
    "            # 如果运算符是乘除, 则压出栈顶元素并与之运算\n",
    "            # 比如'2+3*45' 此时num=45 operator='*' 将栈顶元素3换成3*45\n",
    "            elif operator == '*':\n",
    "                stack[-1] *= num\n",
    "            else:\n",
    "                stack[-1] //= num\n",
    "            num = 0\n",
    "            operator = char\n",
    "    return sum(stack)"
   ]
  },
  {
   "cell_type": "code",
   "execution_count": 60,
   "metadata": {},
   "outputs": [],
   "source": [
    "def calculate(s):\n",
    "    s = s.replace(\" \", \"\")\n",
    "    n = len(s)\n",
    "    nums = []\n",
    "    nums.append(0)\n",
    "    ops = []\n",
    "    def is_number(c):\n",
    "        return c.isdigit()\n",
    "    for i in range(n):\n",
    "        c = s[i]\n",
    "        if c == '(':\n",
    "            ops.append(c)\n",
    "        elif c == ')':\n",
    "            while ops and ops[-1]!= '(':\n",
    "                perform_calculation(nums, ops)\n",
    "            if ops:\n",
    "                ops.pop()\n",
    "        else:\n",
    "            if is_number(c):\n",
    "                u = 0\n",
    "                j = i\n",
    "                while j < n and is_number(s[j]):\n",
    "                    u = u * 10 + int(s[j])\n",
    "                    j += 1\n",
    "                nums.append(u)\n",
    "                i = j - 1\n",
    "            else:\n",
    "                if i > 0 and (s[i - 1] == '(' or s[i - 1] == '+' or s[i - 1] == '-'):\n",
    "                    nums.append(0)\n",
    "                while ops and ops[-1]!= '(' and get_precedence(ops[-1]) >= get_precedence(c):\n",
    "                    perform_calculation(nums, ops)\n",
    "                ops.append(c)\n",
    "    while ops:\n",
    "        perform_calculation(nums, ops)\n",
    "    return nums[-1]\n",
    "\n",
    "def perform_calculation(nums, ops):\n",
    "    if not nums or len(nums) < 2 or not ops:\n",
    "        return\n",
    "    b = nums.pop()\n",
    "    a = nums.pop()\n",
    "    op = ops.pop()\n",
    "    ans = 0\n",
    "    if op == '+':\n",
    "        ans = a + b\n",
    "    elif op == '-':\n",
    "        ans = a - b\n",
    "    elif op == '*':\n",
    "        ans = a * b\n",
    "    elif op == '/':\n",
    "        ans = a // b\n",
    "    elif op == '^':\n",
    "        ans = a ** b\n",
    "    elif op == '%':\n",
    "        ans = a % b\n",
    "    nums.append(ans)\n",
    "\n",
    "def get_precedence(op):\n",
    "    if op in ('-', '+'):\n",
    "        return 1\n",
    "    elif op in ('*', '/', '%'):\n",
    "        return 2\n",
    "    elif op == '^':\n",
    "        return 3\n",
    "    else:\n",
    "        return 0"
   ]
  },
  {
   "cell_type": "code",
   "execution_count": 65,
   "metadata": {},
   "outputs": [
    {
     "name": "stdout",
     "output_type": "stream",
     "text": [
      "0\n",
      "1\n",
      "2\n",
      "3\n",
      "4\n",
      "5\n",
      "6\n",
      "7\n",
      "8\n",
      "9\n"
     ]
    }
   ],
   "source": [
    "for i in range(10):\n",
    "    print(i)\n",
    "    i+=1"
   ]
  },
  {
   "cell_type": "code",
   "execution_count": 63,
   "metadata": {},
   "outputs": [
    {
     "data": {
      "text/plain": [
       "27"
      ]
     },
     "execution_count": 63,
     "metadata": {},
     "output_type": "execute_result"
    }
   ],
   "source": [
    "s = '2+5^2'\n",
    "calculate(s)"
   ]
  },
  {
   "cell_type": "code",
   "execution_count": null,
   "metadata": {},
   "outputs": [],
   "source": []
  }
 ],
 "metadata": {
  "kernelspec": {
   "display_name": "base",
   "language": "python",
   "name": "python3"
  },
  "language_info": {
   "codemirror_mode": {
    "name": "ipython",
    "version": 3
   },
   "file_extension": ".py",
   "mimetype": "text/x-python",
   "name": "python",
   "nbconvert_exporter": "python",
   "pygments_lexer": "ipython3",
   "version": "3.12.3"
  }
 },
 "nbformat": 4,
 "nbformat_minor": 2
}
