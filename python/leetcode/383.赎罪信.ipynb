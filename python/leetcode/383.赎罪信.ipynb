{
 "cells": [
  {
   "cell_type": "code",
   "execution_count": null,
   "metadata": {},
   "outputs": [],
   "source": [
    "from collections import Counter"
   ]
  },
  {
   "cell_type": "code",
   "execution_count": null,
   "metadata": {},
   "outputs": [],
   "source": [
    "def canConstruct(ransomNote: str, magazine: str) -> bool:\n",
    "    return Counter(ransomNote) <= Counter(magazine)"
   ]
  },
  {
   "cell_type": "code",
   "execution_count": null,
   "metadata": {},
   "outputs": [],
   "source": [
    "def canConstruct(ransomNote, magazine):\n",
    "    if len(ransomNote) > len(magazine):\n",
    "        return False\n",
    "    # 如果ransomNote的字符个数小于magazine的话返回的是Counter() 为False\n",
    "    return not Counter(ransomNote) - Counter(magazine)"
   ]
  },
  {
   "cell_type": "code",
   "execution_count": null,
   "metadata": {},
   "outputs": [],
   "source": [
    "def canConstruct(ransomNote, magazine):\n",
    "    cnt = Counter(magazine)\n",
    "    for i in ransomNote:\n",
    "        cnt[i] -= 1\n",
    "        if cnt[i] < 0:\n",
    "            return False\n",
    "        return True"
   ]
  },
  {
   "cell_type": "code",
   "execution_count": null,
   "metadata": {},
   "outputs": [],
   "source": [
    "def canConstruct(ransomNote, magazine):\n",
    "    cnt = {}\n",
    "    for i in magazine:\n",
    "        cnt[i] = cnt.get(i,0) + 1\n",
    "    for i in ransomNote:\n",
    "        if cnt.get(i,0) == 0:\n",
    "            return False\n",
    "        cnt[i] -= 1\n",
    "    return True"
   ]
  },
  {
   "cell_type": "code",
   "execution_count": null,
   "metadata": {},
   "outputs": [],
   "source": [
    "def canConstruct(ransomNote: str, magazine: str) -> bool:\n",
    "    r_set = set(ransomNote)\n",
    "    r_list = list(r_set)\n",
    "    for char in r_list:\n",
    "        if char not in magazine or ransomNote.count(char) > magazine.count(char):\n",
    "            return False\n",
    "    return True"
   ]
  }
 ],
 "metadata": {
  "kernelspec": {
   "display_name": "base",
   "language": "python",
   "name": "python3"
  },
  "language_info": {
   "codemirror_mode": {
    "name": "ipython",
    "version": 3
   },
   "file_extension": ".py",
   "mimetype": "text/x-python",
   "name": "python",
   "nbconvert_exporter": "python",
   "pygments_lexer": "ipython3",
   "version": "3.10.10"
  }
 },
 "nbformat": 4,
 "nbformat_minor": 2
}
