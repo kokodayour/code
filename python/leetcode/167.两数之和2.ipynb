{
 "cells": [
  {
   "cell_type": "code",
   "execution_count": 16,
   "metadata": {},
   "outputs": [],
   "source": [
    "# 二分查找\n",
    "# 与第一题不同的是 数组多了额外的信息:有序 首先想到二分\n",
    "# 对与target-x 不需要一个个查找 使用二分找到下个数\n",
    "def twoSum(numbers: list[int], target: int) -> list[int]:\n",
    "    n = len(numbers)\n",
    "    for i in range(n):\n",
    "        # 固定住一个数 在这个数剩下的区间中二分\n",
    "        low, high = i + 1, n - 1\n",
    "        while low <= high:\n",
    "            mid = (low + high) // 2\n",
    "            if numbers[mid] > target - numbers[i]:\n",
    "                high = mid - 1\n",
    "            elif numbers[mid] == target - numbers[i]:\n",
    "                return [i+1,mid+1]\n",
    "            else:\n",
    "                low = mid + 1"
   ]
  },
  {
   "cell_type": "code",
   "execution_count": 6,
   "metadata": {},
   "outputs": [],
   "source": [
    "# 双指针 缩减搜索空间\n",
    "# 由于数组是有序的 将两端相加 大了的话将右指针左移 小了的话将左指针右移\n",
    "def twoSum(numbers: list[int], target: int) -> list[int]:\n",
    "    left, right = 0, len(numbers) - 1\n",
    "    while left < right:\n",
    "        sum = numbers[left] + numbers[right]\n",
    "        if sum == target:\n",
    "            return[left+1,right+1]\n",
    "        elif sum > target:\n",
    "            right -= 1\n",
    "        else:\n",
    "            left += 1"
   ]
  },
  {
   "cell_type": "code",
   "execution_count": 23,
   "metadata": {},
   "outputs": [],
   "source": [
    "# 双指针+二分 没必要遍历着比 二分跳着比\n",
    "def twoSum(numbers: list[int], target: int) -> list[int]:\n",
    "    left, right = 0, len(numbers) - 1\n",
    "    while left < right:\n",
    "        mid = (left + right) // 2\n",
    "        if (numbers[left] + numbers[mid]) > target: # 小于时没法判断是left小了还是mid小了 这时候中数就没用了\n",
    "            right = mid\n",
    "        elif (numbers[mid] + numbers[right]) < target:\n",
    "            left = mid\n",
    "        elif (numbers[left] + numbers[right]) > target:\n",
    "            right -= 1\n",
    "        elif (numbers[left] + numbers[right]) < target:\n",
    "            left += 1\n",
    "        else:\n",
    "            return [left+1,right+1]"
   ]
  },
  {
   "cell_type": "code",
   "execution_count": 24,
   "metadata": {},
   "outputs": [
    {
     "data": {
      "text/plain": [
       "[3, 6]"
      ]
     },
     "execution_count": 24,
     "metadata": {},
     "output_type": "execute_result"
    }
   ],
   "source": [
    "numbers = [3,24,50,79,88,150,345]\n",
    "target = 200\n",
    "twoSum(numbers,target)"
   ]
  },
  {
   "cell_type": "code",
   "execution_count": 8,
   "metadata": {},
   "outputs": [
    {
     "data": {
      "text/plain": [
       "70.91950000000001"
      ]
     },
     "execution_count": 8,
     "metadata": {},
     "output_type": "execute_result"
    }
   ],
   "source": [
    "(400*4.3295*1.05-400)*0.05"
   ]
  }
 ],
 "metadata": {
  "kernelspec": {
   "display_name": "base",
   "language": "python",
   "name": "python3"
  },
  "language_info": {
   "codemirror_mode": {
    "name": "ipython",
    "version": 3
   },
   "file_extension": ".py",
   "mimetype": "text/x-python",
   "name": "python",
   "nbconvert_exporter": "python",
   "pygments_lexer": "ipython3",
   "version": "3.10.10"
  }
 },
 "nbformat": 4,
 "nbformat_minor": 2
}
