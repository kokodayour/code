{
 "cells": [
  {
   "cell_type": "code",
   "execution_count": 1,
   "metadata": {},
   "outputs": [],
   "source": [
    "# 采用第一题中的解法 在剩下的数中找到两个数的和为-nums[i]\n",
    "def threeSum(nums: list[int]) -> list[list[int]]:\n",
    "    ans = []\n",
    "    n = len(nums)\n",
    "    for i in range(n-2):\n",
    "        elemIndex = {}\n",
    "        for j,x in enumerate(nums[i + 1:]):\n",
    "            if -nums[i] - x in elemIndex:\n",
    "                result = sorted([nums[i],x,nums[elemIndex[- nums[i] - x] + i + 1]])\n",
    "                if result not in ans:\n",
    "                    ans.append(result)\n",
    "            elemIndex[x] = j\n",
    "    return ans"
   ]
  },
  {
   "cell_type": "code",
   "execution_count": 9,
   "metadata": {},
   "outputs": [],
   "source": [
    "# 采用第167题中的解法 先排序 且排好序后容易排除重复解\n",
    "def threeSum(nums: list[int]) -> list[list[int]]:\n",
    "    ans = []\n",
    "    n = len(nums)\n",
    "    nums.sort()\n",
    "    for i in range(n-2): #n-1 n-2 n-3 遍历到n-3就行\n",
    "        # 不能存在重复的三元组 遇到相同的i直接跳过\n",
    "        if i>0 and nums[i] == nums[i-1]:\n",
    "            continue\n",
    "        left,right=i+1,n-1\n",
    "        while left < right:\n",
    "            sum = nums[i] + nums[left] + nums[right]\n",
    "            if sum > 0:\n",
    "                right -= 1\n",
    "            elif sum < 0:\n",
    "                left += 1\n",
    "            else:\n",
    "                ans.append([nums[i],nums[left],nums[right]])\n",
    "                # 这里可以有多个解 所以还需要继续遍历下去\n",
    "                # 三元组不能重复 nums[i]和nums[left]相同则完全重复 需要跳过\n",
    "                right -= 1\n",
    "                # 这里是while而不是if 因为需要判断多次 可能连续三个数字相同\n",
    "                # 同时这里需要判断right和left的大小关系 不要以为外面的while循环会帮你判断 这里如果right一直减下去的话索引可能会超出边界\n",
    "                while right > left and nums[right] == nums[right+1]: \n",
    "                    right -= 1\n",
    "                left += 1\n",
    "                while left < right and nums[left] == nums[left-1]:\n",
    "                    left += 1\n",
    "    return ans"
   ]
  },
  {
   "cell_type": "code",
   "execution_count": 10,
   "metadata": {},
   "outputs": [
    {
     "data": {
      "text/plain": [
       "[[-1, 0, 1]]"
      ]
     },
     "execution_count": 10,
     "metadata": {},
     "output_type": "execute_result"
    }
   ],
   "source": [
    "nums = [1,-1,-1,0] # [[-1,-1,2],[-1,0,1]]\n",
    "threeSum(nums)"
   ]
  }
 ],
 "metadata": {
  "kernelspec": {
   "display_name": "base",
   "language": "python",
   "name": "python3"
  },
  "language_info": {
   "codemirror_mode": {
    "name": "ipython",
    "version": 3
   },
   "file_extension": ".py",
   "mimetype": "text/x-python",
   "name": "python",
   "nbconvert_exporter": "python",
   "pygments_lexer": "ipython3",
   "version": "3.10.10"
  }
 },
 "nbformat": 4,
 "nbformat_minor": 2
}
