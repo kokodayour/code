{
 "cells": [
  {
   "cell_type": "code",
   "execution_count": 26,
   "metadata": {},
   "outputs": [],
   "source": [
    "import heapq\n",
    "def getSubarrayBeauty(nums: list[int], k: int, x: int) -> list[int]:\n",
    "    ans = []\n",
    "    for i in range(k, len(nums)+1):\n",
    "        window = nums[i-k:i]\n",
    "        heapq.heapify(window)\n",
    "        elem = heapq.nsmallest(x, window)[-1]\n",
    "        if elem < 0:\n",
    "            ans.append(elem)\n",
    "        else:\n",
    "            ans.append(0)\n",
    "    return ans"
   ]
  },
  {
   "cell_type": "code",
   "execution_count": 28,
   "metadata": {},
   "outputs": [],
   "source": [
    "# 由于值域范围很小 这里使用计数排序\n",
    "def getSubarrayBeauty(nums:list[int], k: int, x: int) -> list[int]:\n",
    "    cnt = [0] * 101\n",
    "    for num in nums[:k-1]:\n",
    "        cnt[num] += 1\n",
    "    ans = [0] * (len(nums) - k + 1)\n",
    "    for i, (in_, out) in enumerate(zip(nums[k-1:], nums)):\n",
    "        cnt[in_] += 1 # 进入窗口\n",
    "        left = x\n",
    "        for j in range(-50, 0):\n",
    "            left -= cnt[j]\n",
    "            if left <= 0: # 找到美丽值\n",
    "                ans[i] = j\n",
    "                break\n",
    "        cnt[out] -= 1 # 离开窗口\n",
    "    return ans"
   ]
  },
  {
   "cell_type": "code",
   "execution_count": 29,
   "metadata": {},
   "outputs": [],
   "source": [
    "from sortedcontainers import SortedList\n",
    "\n",
    "def getSubarrayBeauty(nums, k, x) -> list[int]:\n",
    "    sl = SortedList(nums[:k-1])\n",
    "    ans = []\n",
    "    for in_, out in zip(nums[k-1:], nums):\n",
    "        sl.add(in_) # 进入窗口\n",
    "        ans.append(min(sl[x-1], 0))\n",
    "        sl.discard(out) # 离开窗口\n",
    "    return ans"
   ]
  },
  {
   "cell_type": "code",
   "execution_count": 30,
   "metadata": {},
   "outputs": [
    {
     "data": {
      "text/plain": [
       "[-1, -2, -2]"
      ]
     },
     "execution_count": 30,
     "metadata": {},
     "output_type": "execute_result"
    }
   ],
   "source": [
    "nums = [1,-1,-3,-2,3]\n",
    "k = 3\n",
    "x = 2\n",
    "# nums = [-1,-2,-3,-4,-5]\n",
    "# k = 2\n",
    "# x = 2\n",
    "getSubarrayBeauty(nums, k, x)"
   ]
  }
 ],
 "metadata": {
  "kernelspec": {
   "display_name": "base",
   "language": "python",
   "name": "python3"
  },
  "language_info": {
   "codemirror_mode": {
    "name": "ipython",
    "version": 3
   },
   "file_extension": ".py",
   "mimetype": "text/x-python",
   "name": "python",
   "nbconvert_exporter": "python",
   "pygments_lexer": "ipython3",
   "version": "3.12.3"
  }
 },
 "nbformat": 4,
 "nbformat_minor": 2
}
