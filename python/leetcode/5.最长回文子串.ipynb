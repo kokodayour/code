{
 "cells": [
  {
   "cell_type": "code",
   "execution_count": 9,
   "metadata": {},
   "outputs": [],
   "source": [
    "# 动态规划算法\n",
    "def longestPalindrome(s: str) -> str:\n",
    "    n = len(s)\n",
    "    if n < 2:\n",
    "        return s\n",
    "    \n",
    "    max_len = 1\n",
    "    begin = 0\n",
    "    # dp[i][j] 表示 s[i..j] 是否是回文串\n",
    "    dp = [[False] * n for _ in range(n)]\n",
    "    for i in range(n):\n",
    "        dp[i][i] = True\n",
    "    \n",
    "    # 递推开始\n",
    "    # 先枚举子串长度\n",
    "    for L in range(2, n + 1):\n",
    "        # 枚举左边界，左边界的上限设置可以宽松一些\n",
    "        for i in range(n):\n",
    "            # 由 L 和 i 可以确定右边界，即 j - i + 1 = L 得\n",
    "            j = L + i - 1\n",
    "            # 如果右边界越界，就可以退出当前循环\n",
    "            if j >= n:\n",
    "                break\n",
    "                \n",
    "            if s[i] != s[j]:\n",
    "                dp[i][j] = False \n",
    "            else:\n",
    "                if j - i < 3:\n",
    "                    dp[i][j] = True\n",
    "                else:\n",
    "                    dp[i][j] = dp[i + 1][j - 1]\n",
    "            \n",
    "            # 只要 dp[i][L] == true 成立，就表示子串 s[i..L] 是回文，此时记录回文长度和起始位置\n",
    "            if dp[i][j]:\n",
    "                max_len = L\n",
    "                begin = i\n",
    "    return s[begin:begin + max_len]"
   ]
  },
  {
   "cell_type": "code",
   "execution_count": 13,
   "metadata": {},
   "outputs": [],
   "source": [
    "# 中心扩散算法\n",
    "def expandAroundCenter(s,left,right):\n",
    "    while left>=0 and right<len(s) and s[left]==s[right]:\n",
    "        left-=1\n",
    "        right+=1\n",
    "    return left+1,right-1\n",
    "\n",
    "def longestPalindrome(s:str)->str:\n",
    "    start,end=0,0\n",
    "    for i in range(len(s)):\n",
    "        left1,right1 = expandAroundCenter(s,i,i)\n",
    "        left2,right2 = expandAroundCenter(s,i,i+1)\n",
    "        if right1-left1>end-start:\n",
    "            start,end=left1,right1\n",
    "        if right2-left2>end-start:\n",
    "            start,end=left2,right2\n",
    "    return s[start:end+1]"
   ]
  },
  {
   "cell_type": "code",
   "execution_count": 14,
   "metadata": {},
   "outputs": [
    {
     "data": {
      "text/plain": [
       "'bab'"
      ]
     },
     "execution_count": 14,
     "metadata": {},
     "output_type": "execute_result"
    }
   ],
   "source": [
    "s = \"babad\"\n",
    "longestPalindrome(s)"
   ]
  }
 ],
 "metadata": {
  "kernelspec": {
   "display_name": "base",
   "language": "python",
   "name": "python3"
  },
  "language_info": {
   "codemirror_mode": {
    "name": "ipython",
    "version": 3
   },
   "file_extension": ".py",
   "mimetype": "text/x-python",
   "name": "python",
   "nbconvert_exporter": "python",
   "pygments_lexer": "ipython3",
   "version": "3.10.10"
  }
 },
 "nbformat": 4,
 "nbformat_minor": 2
}
