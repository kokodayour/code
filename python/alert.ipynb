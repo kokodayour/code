{
 "cells": [
  {
   "attachments": {},
   "cell_type": "markdown",
   "metadata": {},
   "source": [
    "# 一些小小的注意点!!!"
   ]
  },
  {
   "cell_type": "code",
   "execution_count": 1,
   "metadata": {},
   "outputs": [],
   "source": [
    "import numpy as np"
   ]
  },
  {
   "cell_type": "code",
   "execution_count": null,
   "metadata": {},
   "outputs": [],
   "source": [
    "# module XXX has no attribute YYY\n",
    "# 一个文件夹下只有存在__init__.py才能被识别为一个可导入的python包.\n",
    "# 导入包其实是导入此包下的__init__.py模块 所以__init__.py也起到初始化包的作用\n",
    "# 事实上 导入包的时候会执行此脚本 初始化参数并加载一些需要的模块。\n",
    "# 但是mpl下的__init__.py没有加载pyplot模块 因此不能直接import matplotlib as mpl 调用mpl.pyplot\n",
    "import matplotlib as mpl"
   ]
  },
  {
   "cell_type": "code",
   "execution_count": null,
   "metadata": {},
   "outputs": [],
   "source": [
    "# 函数内部存在print函数 但在调用时又print了一次\n",
    "# print会打印函数的返回值 由于函数并没有返回值 因此最后会打印个None\n",
    "def enroll(name, gender, age=6, city='Beijing'):\n",
    "    print('name:', name)\n",
    "    print('gender:', gender)\n",
    "    print('age:', age)\n",
    "    print('city:', city)\n",
    "print(enroll('Sarah', 'F')) # 相比下一个打印多了个None\n",
    "enroll('jack','M')"
   ]
  },
  {
   "cell_type": "code",
   "execution_count": null,
   "metadata": {},
   "outputs": [],
   "source": [
    "v1 = np.array([1, 2, 3])\n",
    "np.zeros_like(v1)+v1*0.2\n",
    "weighted_sum = np.zeros_like(v1)\n",
    "weighted_sum += v1*0.2 # UFuncTypeError\n",
    "# 推测第二行代码出现了隐式转换 而由于已经将weighted_sum的类型定死了 不能进行隐式转换"
   ]
  },
  {
   "cell_type": "code",
   "execution_count": null,
   "metadata": {},
   "outputs": [],
   "source": [
    "# np不是在数据的原有基础上对数据进行修改的, 需要使用变量名去接受新的变量\n",
    "y = np.array([0.1,0.2,0.3,0.4]) # 当输入的是一维向量的时候 np自动将其转为列向量 所以shape是(4,)\n",
    "print(y.shape)\n",
    "y.reshape(1,y.size) # 这里并没有改变y的shape! 推测y.shape返回一个新的np.array对象 但没有使用新的变量去指向内存中的这个地址 y依然是原来的那个(4,)\n",
    "print(y.shape)\n",
    "y = y.reshape(1,y.size)\n",
    "print(y.shape)"
   ]
  },
  {
   "cell_type": "code",
   "execution_count": null,
   "metadata": {},
   "outputs": [],
   "source": [
    "# 索引必须是整数 带.0的浮点数不行\n",
    "my_list = [1,2,3]\n",
    "my_list[4/2] # 浮点除 即使能够被整除 返回的类型也是float\n",
    "my_list[4//2] # 向下取整除 返回值类型取决于运算元素 全是整数则返回整数 含有小数则返回小数"
   ]
  },
  {
   "cell_type": "code",
   "execution_count": null,
   "metadata": {},
   "outputs": [],
   "source": [
    "# 默认参数作为函数的属性 在函数被定义时就被定义了 而不是在函数被调用时被定义的\n",
    "# 因此要避免使用列表作为函数的默认参数\n",
    "def add_to(num:int, target: list=[]):\n",
    "    print(id(target)) # 每次调用的id相同\n",
    "    target.append(num)\n",
    "    return target\n",
    "\n",
    "print(add_to(1)) # [1]\n",
    "print(add_to(2)) # [1, 2]"
   ]
  },
  {
   "cell_type": "code",
   "execution_count": null,
   "metadata": {},
   "outputs": [],
   "source": [
    "# python中, is的优先级要高于and\n",
    "a = 1\n",
    "b = None\n",
    "# 先判断b is None 再判断a是否为None\n",
    "if a and b is None:\n",
    "    print('The priority of \"is\" should be higher than \"and\"')"
   ]
  },
  {
   "cell_type": "code",
   "execution_count": 6,
   "metadata": {},
   "outputs": [
    {
     "data": {
      "text/plain": [
       "[[1, 2, 3], [1, 2, 3]]"
      ]
     },
     "execution_count": 6,
     "metadata": {},
     "output_type": "execute_result"
    }
   ],
   "source": [
    "# \"=\" 不仅是赋值号 还有更改引用的含义\n",
    "# 当append一个可变对象的时候 修改可变对象的值会修改之前的元素\n",
    "# 解决方法是append拷贝\n",
    "a, b = [1, 2], []\n",
    "b.append(a)\n",
    "a.append(3)\n",
    "b.append(a)\n",
    "b # [[1, 2, 3], [1, 2, 3]]"
   ]
  },
  {
   "cell_type": "code",
   "execution_count": 1,
   "metadata": {},
   "outputs": [],
   "source": [
    "# 在具有多层嵌套的结构中 一定要主要return的位置!!!! 究竟是在哪一层返回值"
   ]
  }
 ],
 "metadata": {
  "kernelspec": {
   "display_name": "base",
   "language": "python",
   "name": "python3"
  },
  "language_info": {
   "codemirror_mode": {
    "name": "ipython",
    "version": 3
   },
   "file_extension": ".py",
   "mimetype": "text/x-python",
   "name": "python",
   "nbconvert_exporter": "python",
   "pygments_lexer": "ipython3",
   "version": "3.12.3"
  },
  "orig_nbformat": 4,
  "vscode": {
   "interpreter": {
    "hash": "fd16a1c2e981052eaae61151b9525ae9913f1f0d16bca6b7e7be9e0f29d739d2"
   }
  }
 },
 "nbformat": 4,
 "nbformat_minor": 2
}
