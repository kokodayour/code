{
 "cells": [
  {
   "cell_type": "code",
   "execution_count": null,
   "metadata": {},
   "outputs": [],
   "source": [
    "import pandas as pd"
   ]
  },
  {
   "cell_type": "code",
   "execution_count": null,
   "metadata": {},
   "outputs": [],
   "source": [
    "# pandas.Series( data, index, dtype, name, copy)创建序列\n",
    "a = [1,2,3]\n",
    "myvar1 = pd.Series(data=a)\n",
    "myvar2 = pd.Series(data=a,index=['a','b','c'])\n",
    "b = {\n",
    "    \"x\":10,\n",
    "    \"y\":20,\n",
    "    \"z\":30\n",
    "}\n",
    "myvar3 = pd.Series(data = b)\n",
    "# 只需要一部分字典\n",
    "myvar4 = pd.Series(b,index=['x','z'])"
   ]
  },
  {
   "cell_type": "code",
   "execution_count": null,
   "metadata": {},
   "outputs": [],
   "source": [
    "# pandas.DataFrame( data, index, columns, dtype, copy)创建二维表 index是行名 columns是列名\n",
    "# 使用二维数组创建\n",
    "data = [\n",
    "    ['x',11,128.3],\n",
    "    ['y',12,125.2],\n",
    "    ['z',13,112]\n",
    "]\n",
    "pd.DataFrame(data=data,index=['a','b','c'],columns=['key','value','money']).astype({'value':float,'money':int})\n",
    "# 使用字典（键：数组）创建\n",
    "data = {\n",
    "    'key':['a','b','c'],\n",
    "    'value':[1,2,3]\n",
    "}\n",
    "pd.DataFrame(data)\n",
    "# 使用数组（字典）创建\n",
    "data = [\n",
    "    {\n",
    "        'a': 1,\n",
    "        'b': 2\n",
    "    },\n",
    "    {\n",
    "        'a': 3,\n",
    "        'b': 4,\n",
    "        'c': 5\n",
    "    }\n",
    "]\n",
    "pd.DataFrame(data)"
   ]
  },
  {
   "cell_type": "code",
   "execution_count": null,
   "metadata": {},
   "outputs": [],
   "source": [
    "# 从文件中读取 第二(三)个参数表示将文件第一行(列)作为列(索引)名 第四个参数表示要使用哪些列\n",
    "df = pd.read_csv('../data/iris.csv', header=0, index_col=0) # usecols=['ID','name','age','address']\n",
    "# 更改列名 这里的replace有魔法 可以使用正则表达式匹配 \n",
    "df.columns = df.columns.str.replace(r'\\(cm\\)','',regex=True)\n",
    "df = df.rename(columns={'ID':'身份证号'})"
   ]
  },
  {
   "cell_type": "code",
   "execution_count": null,
   "metadata": {},
   "outputs": [],
   "source": [
    "# 查看数据框\n",
    "\n",
    "# 虽然dataframe是一个二维表 但是它不能直接进行切片\n",
    "# 通过loc iloc属性获取指定行列的数据 前者使用行列标签 后者使用行列索引\n",
    "df.loc[1] \n",
    "df.iloc[1]\n",
    "# 获取多行数据 \n",
    "df.loc[0:4]\n",
    "df.iloc[0:5]\n",
    "# 获取列\n",
    "df.loc[:,['target','type']]\n",
    "df.iloc[:,4:6]\n",
    "# 其实直接通过属性获取就行 df.target\n",
    "# 获取指定单元格数据\n",
    "df.iat[1,1]\n",
    "# 查看前几行 后几行 随机行\n",
    "df.head()\n",
    "df.tail(3)\n",
    "df.sample(7)"
   ]
  },
  {
   "cell_type": "code",
   "execution_count": null,
   "metadata": {},
   "outputs": [],
   "source": [
    "# 数据概要\n",
    "\n",
    "# 查看数据框的摘要信息\n",
    "df.info()\n",
    "# 查看数据框的统计信息\n",
    "df.describe()\n",
    "# 数据过滤 df[expression] 返回一个dataframe\n",
    "df[df.type == 'setosa']\n",
    "df[df.type.isin(['setosa', 'versicolor'])]\n",
    "# 获取分类\n",
    "df['type'].unique()\n",
    "# 分类统计 参数表示使用比率形式给出\n",
    "df['type'].value_counts(normalize=True)"
   ]
  },
  {
   "cell_type": "code",
   "execution_count": null,
   "metadata": {},
   "outputs": [],
   "source": [
    "# 数据预处理\n",
    "\n",
    "# 输出一个和输入形状相同的df True表示是缺失值 False不是\n",
    "df.isnull() \n",
    "# 将nan替换为0 第二个参数表示直接在原始数据上操作\n",
    "df.fillna(0, inplace=True) \n",
    "df.fillna(df.mean(), inplace=True) \n",
    "# 去重 subset是去重的判断标准\n",
    "df.drop_duplicates(subset=['a','b'])"
   ]
  },
  {
   "cell_type": "code",
   "execution_count": null,
   "metadata": {},
   "outputs": [],
   "source": [
    "# 实用函数\n",
    "\n",
    "# sum: 计算axis上的和\n",
    "df.sum() \n",
    "# apply: 可以将函数作用到df的行或列\n",
    "df['fn1'] = df.apply(lambda row: row['A']*row['B']+row['C'], axis=1)\n",
    "df['fn2'] = df['demo'].apply(abs)\n",
    "# map:\n",
    "df['B'] = df['A'].map({1:'A',2:'B',3:'C'})"
   ]
  },
  {
   "cell_type": "code",
   "execution_count": null,
   "metadata": {},
   "outputs": [],
   "source": [
    "# 合并数据框\n",
    "pd.concat([df1,df2],ignore_index=true)"
   ]
  },
  {
   "cell_type": "code",
   "execution_count": null,
   "metadata": {},
   "outputs": [],
   "source": [
    "# 写出数据\n",
    "df.to_csv('./data/',index=False)"
   ]
  }
 ],
 "metadata": {
  "kernelspec": {
   "display_name": "base",
   "language": "python",
   "name": "python3"
  },
  "language_info": {
   "codemirror_mode": {
    "name": "ipython",
    "version": 3
   },
   "file_extension": ".py",
   "mimetype": "text/x-python",
   "name": "python",
   "nbconvert_exporter": "python",
   "pygments_lexer": "ipython3",
   "version": "3.10.10"
  },
  "orig_nbformat": 4,
  "vscode": {
   "interpreter": {
    "hash": "fd16a1c2e981052eaae61151b9525ae9913f1f0d16bca6b7e7be9e0f29d739d2"
   }
  }
 },
 "nbformat": 4,
 "nbformat_minor": 2
}
