{
 "cells": [
  {
   "cell_type": "code",
   "execution_count": null,
   "metadata": {
    "jupyter": {
     "is_executing": true
    }
   },
   "outputs": [],
   "source": [
    "# python提供了切片(slice)操作符获取指定索引范围数据\n",
    "L = list(range(100))\n",
    "print(L[0:3])\n",
    "print(L[:3]) # 0可以省略\n",
    "print(L[-2:]) # 从倒数第二个元素开始\n",
    "print(L[:10])\n",
    "print(L[-10:])\n",
    "print(L[10:20])\n",
    "print(L[:10:2]) # 前十个数， 每2个取一个\n",
    "print(L[::5]) # 所有数， 每5个取一个\n",
    "print(L[::]) # 啥都不写就复制一个\n",
    "print(L[1,-1]) # 去头掐尾"
   ]
  },
  {
   "cell_type": "code",
   "execution_count": null,
   "metadata": {},
   "outputs": [],
   "source": [
    "#tuple和字符串也可以视作list，也可以使用切片操作\n",
    "l = tuple(range(10))\n",
    "print(l[:5])\n",
    "L = 'abcdefghijklmn'\n",
    "print(L[-5:]) # jklmn\n",
    "print(L[:-1]) # abcdefghijklm"
   ]
  },
  {
   "cell_type": "code",
   "execution_count": null,
   "metadata": {},
   "outputs": [],
   "source": [
    "# 字符串和列表切片可以超出索引\n",
    "[1,2,3,4][3:5] # 4\n",
    "'abcd'[3:5] # d"
   ]
  },
  {
   "cell_type": "code",
   "execution_count": null,
   "metadata": {},
   "outputs": [],
   "source": [
    "from sklearn import datasets\n",
    "\n",
    "iris = datasets.load_iris()\n",
    "X = iris.data\n",
    "\n",
    "# 二维列表的切边,第一个参数表示行,第二个参数表示列,不写(第二位参数)或者只写':'表示选择全部\n",
    "print(X)\n",
    "print(X[0:3,:]) # 选择前三行\n",
    "print(X[0:3,0:2]) # 选择前三行的前两列\n",
    "print(X[:,0]) # 选择第一列\n",
    "print(X[:,::2]) # 选择奇数列\n",
    "print(X[:,:-1]) # 从第一列选到倒数第二列"
   ]
  },
  {
   "cell_type": "code",
   "execution_count": null,
   "metadata": {},
   "outputs": [],
   "source": [
    "def trim(s):\n",
    "    a = s\n",
    "    if(s == ''):\n",
    "        print(\"空格已去除!\")\n",
    "        return a\n",
    "    elif s[0] == ' ':\n",
    "        s = s[1:]\n",
    "    elif s[-1] == ' ':\n",
    "        s = s[:-1]\n",
    "    elif a == s:\n",
    "        print(\"空格已去除！\")\n",
    "        return a\n",
    "    return trim(s)\n",
    "\n",
    "if trim('hello  ') != 'hello':\n",
    "    print('测试失败!')\n",
    "elif trim('  hello') != 'hello':\n",
    "    print('测试失败!')\n",
    "elif trim('  hello  ') != 'hello':\n",
    "    print('测试失败!')\n",
    "elif trim('  hello  world  ') != 'hello  world':\n",
    "    print('测试失败!')\n",
    "elif trim('') != '':\n",
    "    print('测试失败!')\n",
    "elif trim('    ') != '':\n",
    "    print('测试失败!')\n",
    "else:\n",
    "    print('测试成功!')"
   ]
  },
  {
   "cell_type": "code",
   "execution_count": null,
   "metadata": {},
   "outputs": [],
   "source": [
    "#迭代：一个一个的遍历元素\n",
    "#有些对象没有下标，但依然是可迭代对象（dict，string）\n",
    "d = {\n",
    "    'a':1,\n",
    "    'b':2,\n",
    "    'c':3\n",
    "}\n",
    "print([key for key in d.keys()])\n",
    "print([value for value in d.values()])\n",
    "print([item for item in d.items()])\n",
    "\n",
    "'abc'[1]"
   ]
  },
  {
   "cell_type": "code",
   "execution_count": null,
   "metadata": {},
   "outputs": [],
   "source": [
    "# 判断对象是否可迭代\n",
    "from collections.abc import Iterable\n",
    "isinstance('abc',Iterable)"
   ]
  },
  {
   "cell_type": "code",
   "execution_count": null,
   "metadata": {},
   "outputs": [],
   "source": [
    "# 通过enumerate将可迭代对象加上下标\n",
    "for i,value in enumerate(d.items()):\n",
    "    print(i,value)"
   ]
  },
  {
   "cell_type": "code",
   "execution_count": null,
   "metadata": {},
   "outputs": [],
   "source": [
    "# 列表生成式 将循环写成一个表达式，创建列表\n",
    "[x*x for x in range(10)]"
   ]
  },
  {
   "cell_type": "code",
   "execution_count": null,
   "metadata": {},
   "outputs": [],
   "source": [
    "# 后面可以加上if语句进行筛选 不能加else!\n",
    "[x*x for x in range(1,11) if x%2==0]"
   ]
  },
  {
   "cell_type": "code",
   "execution_count": null,
   "metadata": {},
   "outputs": [],
   "source": [
    "# 前面加上if else语句(else必须有!)或者自定义函数 实现更强大的计算功能\n",
    "def func(x:int):\n",
    "    if x % 2 ==0:\n",
    "        return x\n",
    "    else:\n",
    "        return None\n",
    "    \n",
    "[func(x) for x in range(1,11)]\n",
    "# [x if x % 2 == 0 else None for x in range(1, 11)]"
   ]
  },
  {
   "cell_type": "code",
   "execution_count": null,
   "metadata": {},
   "outputs": [],
   "source": [
    "# 可以使用多层循环\n",
    "[m+n for m in 'abc' for n in 'xyz']"
   ]
  },
  {
   "cell_type": "code",
   "execution_count": null,
   "metadata": {},
   "outputs": [],
   "source": [
    "L1 = ['Hello', 'World', 18, 'Apple', None]\n",
    "[L.lower() for L in L1 if isinstance(L,str)]"
   ]
  },
  {
   "cell_type": "code",
   "execution_count": null,
   "metadata": {},
   "outputs": [],
   "source": [
    "# 生成器相当于一个公式 只有在需要的时候才可以得到元素值 节省了内存空间 所以它是可迭代但不可下标的\n",
    "g = (x * x for x in range(10))\n",
    "g"
   ]
  },
  {
   "cell_type": "code",
   "execution_count": null,
   "metadata": {},
   "outputs": [],
   "source": [
    "# 通过next()获取下一个返回值\n",
    "print(next(g),end=\" \")\n",
    "print(next(g),end=\" \")\n",
    "print(next(g),end=\" \") # 0 1 4"
   ]
  }
 ],
 "metadata": {
  "kernelspec": {
   "display_name": "base",
   "language": "python",
   "name": "python3"
  },
  "language_info": {
   "codemirror_mode": {
    "name": "ipython",
    "version": 3
   },
   "file_extension": ".py",
   "mimetype": "text/x-python",
   "name": "python",
   "nbconvert_exporter": "python",
   "pygments_lexer": "ipython3",
   "version": "3.12.3"
  },
  "orig_nbformat": 4,
  "vscode": {
   "interpreter": {
    "hash": "fd16a1c2e981052eaae61151b9525ae9913f1f0d16bca6b7e7be9e0f29d739d2"
   }
  }
 },
 "nbformat": 4,
 "nbformat_minor": 2
}
