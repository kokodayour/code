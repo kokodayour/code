{
 "cells": [
  {
   "cell_type": "code",
   "execution_count": null,
   "metadata": {},
   "outputs": [],
   "source": [
    "# 1.同时遍历两个数组 知道一个数组遍历全部元素为止\n",
    "a = [1,2,3,4]\n",
    "b = [5,6,7,10,2]\n",
    "for item1,item2 in zip(a,b): # zip()返回一个元组迭代器 第i个元素是每个参数第i个元素组成的元组\n",
    "    print(item1+item2,end=\" \") "
   ]
  },
  {
   "cell_type": "code",
   "execution_count": null,
   "metadata": {},
   "outputs": [],
   "source": [
    "# 2.自定义排序\n",
    "li = [1,5,3,2,6,7,1,4]\n",
    "new_li = [(abs(each - 5), each) for each in li]\n",
    "# key中传入指定的规则函数 这里对元组的第一个元素进行排序\n",
    "new_li.sort(key=lambda a: a[0]) # 同下\n",
    "# sorted(new_li, key=lambda a: a[0]) \n",
    "# sorted默认按照函数的第一个元素进行排序 如果第一个元素相同则按第二个元素进行排序\n",
    "[each[1] for each in new_li[:5]]"
   ]
  },
  {
   "cell_type": "code",
   "execution_count": null,
   "metadata": {},
   "outputs": [],
   "source": [
    "# 3.自定义最小值\n",
    "# 查找列表中的最小值\n",
    "numbers = [5, 2, 8, 1, 6]\n",
    "min(numbers)  # 1\n",
    "\n",
    "# 查找字符串中的最小字符\n",
    "text = \"python\"\n",
    "min(text) # \"h\"\n",
    "\n",
    "# 使用 key 参数来查找最短字符串 同sort函数\n",
    "words = [\"apple\", \"banana\", \"cherry\", \"date\"]\n",
    "min(words, key=len)# \"date\""
   ]
  },
  {
   "cell_type": "code",
   "execution_count": null,
   "metadata": {},
   "outputs": [],
   "source": [
    "# 4.不换行打印\n",
    "for i in range(0,11):\n",
    "    print(i, end='0.o')"
   ]
  },
  {
   "cell_type": "code",
   "execution_count": null,
   "metadata": {},
   "outputs": [],
   "source": [
    "# 5.统计列表中某个元素的个数\n",
    "[1,2,3,4,5,6,7,8,1,2,1,3,4,6,71,2,43,12,].count(19)"
   ]
  },
  {
   "cell_type": "code",
   "execution_count": null,
   "metadata": {},
   "outputs": [],
   "source": [
    "# 6.获取迭代对象的下标\n",
    "for i,j in enumerate(range(0,6)):\n",
    "    print(i,j,end=', ')"
   ]
  },
  {
   "cell_type": "code",
   "execution_count": null,
   "metadata": {},
   "outputs": [],
   "source": [
    "# 7.如果不需要迭代对象可以直接使用_替代\n",
    "for _ in range(0,6):\n",
    "    print('hhh',end=\"  \")"
   ]
  },
  {
   "cell_type": "code",
   "execution_count": null,
   "metadata": {},
   "outputs": [],
   "source": [
    "# 8. 从列表中随机获取一个数\n",
    "import random\n",
    "a = [1,2,3,4,5,6,7,8,9,10]\n",
    "random.choice(a)"
   ]
  },
  {
   "cell_type": "code",
   "execution_count": null,
   "metadata": {},
   "outputs": [],
   "source": [
    "# 11.if-else连写 \n",
    "# 类似于三元运算符 value_if_true if condition else value_if_false\n",
    "a = 10\n",
    "b = 15\n",
    "max_num = a if a > b else b\n",
    "max_num"
   ]
  },
  {
   "cell_type": "code",
   "execution_count": null,
   "metadata": {},
   "outputs": [],
   "source": [
    "# 12.倒序遍历\n",
    "# range(起始值=0 终止值 步长=1)\n",
    "for i in range(10, -1, -1):\n",
    "    print(i, end=\" \")"
   ]
  },
  {
   "cell_type": "code",
   "execution_count": null,
   "metadata": {},
   "outputs": [],
   "source": [
    "# 14.同时遍历一个数组的两个元素\n",
    "score = ['语文',82,'数学',30,'综合',62,'外语',48,'民族语言',0,'总分',222]\n",
    "info = {}\n",
    "# 每两个元素迭代一次 第一个元素从索引0开始 第二个元素从索引1开始\n",
    "for subject, num in zip(score[::2],score[1::2]):\n",
    "    info[subject] = num\n",
    "# 字典生成器\n",
    "# info = {score[i]:score[i+1] for i in range(0,len(score),2)}\n",
    "# info = dict(zip(score[::2], score[1::2]))\n",
    "info"
   ]
  },
  {
   "cell_type": "code",
   "execution_count": null,
   "metadata": {},
   "outputs": [],
   "source": [
    "# 15.判断元素a是否在元素b中 这里的元素可以是列表 字符串等\n",
    "a in b"
   ]
  },
  {
   "cell_type": "code",
   "execution_count": null,
   "metadata": {},
   "outputs": [],
   "source": [
    "# 16.返回列表中某个元素的索引位置\n",
    "[1,2,3,4,5,6,7,8,9,10].index(9)"
   ]
  },
  {
   "cell_type": "code",
   "execution_count": null,
   "metadata": {},
   "outputs": [],
   "source": [
    "# 17.使用numba加速代码\n",
    "import time\n",
    "import numpy as np\n",
    "import numba\n",
    "\n",
    "@numba.njit\n",
    "def cal_sum(a):\n",
    "    result = 0\n",
    "    for i in range(a.shape[0]):\n",
    "        for j in range(a.shape[1]):\n",
    "            result += a[i,j]\n",
    "    return result\n",
    "\n",
    "a = np.random.random((5000, 5000))\n",
    "start = time.perf_counter()\n",
    "cal_sum(a)\n",
    "end = time.perf_counter()\n",
    "end - start"
   ]
  },
  {
   "cell_type": "code",
   "execution_count": 1,
   "metadata": {},
   "outputs": [],
   "source": [
    "# 18.or的优先级高于=(赋值号)\n",
    "# or会先计算左值 如果为真则返回左值 否则返回右值\n",
    "0 or 2 # 2\n",
    "1 or 2 # 1\n",
    "[] or 0 # 0"
   ]
  }
 ],
 "metadata": {
  "kernelspec": {
   "display_name": "base",
   "language": "python",
   "name": "python3"
  },
  "language_info": {
   "codemirror_mode": {
    "name": "ipython",
    "version": 3
   },
   "file_extension": ".py",
   "mimetype": "text/x-python",
   "name": "python",
   "nbconvert_exporter": "python",
   "pygments_lexer": "ipython3",
   "version": "3.12.3"
  },
  "orig_nbformat": 4
 },
 "nbformat": 4,
 "nbformat_minor": 2
}
