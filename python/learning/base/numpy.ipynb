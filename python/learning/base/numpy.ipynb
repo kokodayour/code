{
 "cells": [
  {
   "cell_type": "code",
   "execution_count": 1,
   "metadata": {},
   "outputs": [],
   "source": [
    "import numpy as np"
   ]
  },
  {
   "cell_type": "code",
   "execution_count": null,
   "metadata": {},
   "outputs": [],
   "source": [
    "# 创建数组\n",
    "np.array([1,2,3,4,5]) # 创建数组\n",
    "np.zeros((3,2)) # 创建3行2列零矩阵\n",
    "np.zeros_like(a) # 创建和a数组一样形状的零矩阵\n",
    "np.eye(3) # 创建单位矩阵\n",
    "np.diag((1,3,5)) # 生成对角矩阵 元素依次是1 3 5\n",
    "np.ones((2,3)) # 生成2行3列元素全是1的矩阵\n",
    "np.full((2,4),3) # 生成2行4列元素全是3的矩阵\n",
    "np.linspace(0,1,5) # 在0，1之间创建5个数\n",
    "np.arange(0,10,1) # 相当于np.array(range(0,10,1))"
   ]
  },
  {
   "cell_type": "code",
   "execution_count": null,
   "metadata": {},
   "outputs": [],
   "source": [
    "# 随机数组\n",
    "np.random.rand(10) # 0-1之间的服从均匀分布的随机数 10个\n",
    "np.random.rand(2,3) # 生成2X3的矩阵 其中每个元素如上\n",
    "np.random.randn(3,3) # 标准正态分布\n",
    "np.random.normal(0,1,size=(3,3)) # 均值为0 标准差为1的正态随机分布数\n",
    "np.random.random_sample((3,3)) # 同上 区别在于两者的传参方式不同\n",
    "np.random.randint(1,100, size=10) # 1-100随机整数 10个\n",
    "np.random.uniform(1,100, size=10) # 1-100随机浮点数 10个\n",
    "# 从数组中随机选size个数: 一维数组 返回数据形状和个数 小球不放回 还有个参数p控制每个元素被选取的概率\n",
    "np.random.choice(np.arange(1, 11), size=(2,2), replace=False) "
   ]
  },
  {
   "cell_type": "code",
   "execution_count": null,
   "metadata": {},
   "outputs": [],
   "source": [
    "# 数组信息\n",
    "a = np.random.randn(2,3)\n",
    "a.ndim # 维度数\n",
    "len(a) # 第一维的长度\n",
    "a.size # 元素个数\n",
    "a.dtype # 元素类型\n",
    "b = a.astype(int) # 类型转换 注意这里返回一个新数组 不会改变原数组\n",
    "c = a.T # 矩阵转置\n",
    "d = c.flatten() # 数组摊开\n",
    "# np.unique(ndarray, return_counts=true) 返回数组中的独特值及其个数"
   ]
  },
  {
   "cell_type": "code",
   "execution_count": null,
   "metadata": {},
   "outputs": [],
   "source": [
    "# 数组运算 会在自身位置上进行修改\n",
    "a = np.array([[1,2],\n",
    "             [3,4]])\n",
    "b = np.diag([2,2])\n",
    "c = np.array([1,2])\n",
    "a+b # 元素级别运算\n",
    "b/a\n",
    "a@b # 矩阵乘法\n",
    "b*3\n",
    "np.sqrt(b) # np.sin/cos/log/power\n",
    "# 对于每一维 两个数组的形状要么相等 要么其中一个为1 后者的话需要进行广播操作\n",
    "# 在进行广播操作时 NumPy会自动将形状较小的数组进行复制 使得两个数组的形状相匹配 然后进行元素级的操作\n",
    "# 例如A(4,3)与B(3,)运算时 会将B复制成4份 然后再同位置元素运算\n",
    "# 例如C(100,100)与D(,)运算时 会将D先横着复制成100份 再竖着复制成100份\n",
    "# 简单地说 广播机制不需要参与运算的数组形状完全一致 而是说对形状A中每一部分形状B进行相同运算\n",
    "b+c"
   ]
  },
  {
   "cell_type": "code",
   "execution_count": null,
   "metadata": {},
   "outputs": [],
   "source": [
    "# 元素定位 axis=0沿列上进行操作 axis=1沿行上进行操作 axis=None视为一维数组操作\n",
    "a = np.array([[1,22,3,4,5,6],\n",
    "              [4,5,65,7,8,9],\n",
    "              [7,8,9,101,11,12]])\n",
    "a.argmax(axis=1) # 返回最大值的索引\n",
    "a[ (a>3) & (a%2==0) ] # array[expression] 返回所有满足表达式的元素\n",
    "# np.where(condition,x,y) 第一个参数表示条件 当条件成立时where方法返回x 当条件不成立时where返回y\n",
    "np.where(a > 10, a, -1)\n",
    "# np.where(condition) 它会返回两个元组，其中第一个元组是符合条件元素的行号，第二个元组是符合田间元素的列号，要结合这两个数组才能定位元素！！！\n",
    "np.where(a == 7)\n",
    "np.argsort(a) # 返回排序后(升序)元素的索引 [0,2,3,4,5,1]表示最大的元素在原索引1的位置 最小的元素在原索引0的位置"
   ]
  },
  {
   "cell_type": "code",
   "execution_count": null,
   "metadata": {},
   "outputs": [],
   "source": [
    "# 特殊函数\n",
    "a = np.random.randn(2,2)\n",
    "b = np.random.rand(2,2)\n",
    "# 聚合函数 mean var std sum\n",
    "a.max()\n",
    "# 数组合并\n",
    "np.vstack((a,b)) # 按列合并\n",
    "np.concatenate((a,b), axis=1) # 指定axis进行合并\n",
    "np.append(a,np.array([0,0]))"
   ]
  },
  {
   "cell_type": "code",
   "execution_count": null,
   "metadata": {},
   "outputs": [],
   "source": [
    "# 注意点!\n",
    "# np.array([1,2,3]) np.array([[1,2,3]]) np.array([[1],[2],[3]])前者是(3,)向量无第二维 但可以进行广播 中间是(1,3)矩阵 后者是(3,1)矩阵\n",
    "# 外侧有几个括号就是几维 括号后接逗号则换行"
   ]
  }
 ],
 "metadata": {
  "kernelspec": {
   "display_name": "base",
   "language": "python",
   "name": "python3"
  },
  "language_info": {
   "codemirror_mode": {
    "name": "ipython",
    "version": 3
   },
   "file_extension": ".py",
   "mimetype": "text/x-python",
   "name": "python",
   "nbconvert_exporter": "python",
   "pygments_lexer": "ipython3",
   "version": "3.12.3"
  },
  "orig_nbformat": 4,
  "vscode": {
   "interpreter": {
    "hash": "fd16a1c2e981052eaae61151b9525ae9913f1f0d16bca6b7e7be9e0f29d739d2"
   }
  }
 },
 "nbformat": 4,
 "nbformat_minor": 2
}
