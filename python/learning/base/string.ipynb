{
 "cells": [
  {
   "cell_type": "code",
   "execution_count": 1,
   "metadata": {},
   "outputs": [
    {
     "name": "stdout",
     "output_type": "stream",
     "text": [
      "line1\n",
      "line2\n",
      "line3\n",
      "\n",
      "Hi,\n",
      "wdk!\n",
      "OK?\n",
      "\n",
      "Hello, wdk! How old are you? 18.89\n",
      "Hello, wdk! How old are you? 18.889\n"
     ]
    }
   ],
   "source": [
    "name = 'wdk'\n",
    "age = 18.8888\n",
    "# 省略\\n, 输出多行内容\n",
    "print('''line1\n",
    "line2\n",
    "line3\n",
    "''')\n",
    "# 格式化输出, 相当于c中的printf\n",
    "print('''%s,\n",
    "%s!\n",
    "OK?\n",
    "''' % ('Hi', name))\n",
    "# format后的参数依次替换前面的花括号\n",
    "print('Hello, {0}! How old are you? {1:.2f}'.format(name, age))\n",
    "# 在字符串前加上f， 花括号内的变量自动的替换\n",
    "print(f'Hello, {name}! How old are you? {age:.3f}')"
   ]
  },
  {
   "cell_type": "code",
   "execution_count": null,
   "metadata": {},
   "outputs": [],
   "source": [
    "# strip方法用于去除字符串首尾指定字符， 默认是空格\n",
    "str1 = \"00000003210Runoob01230000000\"\n",
    "print(str1.strip('0'))  # 去除首尾字符 0\n",
    "str2 = \"   Runoob      \"   # 去除首尾空格\n",
    "print(str2.strip())"
   ]
  },
  {
   "cell_type": "code",
   "execution_count": null,
   "metadata": {},
   "outputs": [],
   "source": [
    "# split方法用于切割字符串，返回一个list，包含切割的各个部分\n",
    "# 第二个参数表示分割的次数 默认-1表示全分\n",
    "str3 = '1,2,3,4,5,6'\n",
    "str3.split(','), str3.split(',', maxsplit=1)"
   ]
  },
  {
   "cell_type": "code",
   "execution_count": null,
   "metadata": {},
   "outputs": [],
   "source": [
    "# join方法用于将元素链接成字符串 str.join(sequence)\n",
    "list1 = ['1','2','3','4']\n",
    "''.join(list1)\n",
    "# 每个元素要求是字符类型\n",
    "list2 = [1,2,3,4,5]\n",
    "''.join(map(str, list2)), int(''.join([str(i) for i in list2]))"
   ]
  },
  {
   "cell_type": "code",
   "execution_count": null,
   "metadata": {},
   "outputs": [],
   "source": [
    "# replace方法用于字符串替换 但不支持正则\n",
    "list3 = ['sepal length(cm)','sepal width(cm)','petal length(cm)','petal width(cm)','target','type']\n",
    "[elem.replace(r'(cm)','') for elem in list3]"
   ]
  }
 ],
 "metadata": {
  "kernelspec": {
   "display_name": "base",
   "language": "python",
   "name": "python3"
  },
  "language_info": {
   "codemirror_mode": {
    "name": "ipython",
    "version": 3
   },
   "file_extension": ".py",
   "mimetype": "text/x-python",
   "name": "python",
   "nbconvert_exporter": "python",
   "pygments_lexer": "ipython3",
   "version": "3.12.3"
  },
  "orig_nbformat": 4,
  "vscode": {
   "interpreter": {
    "hash": "fd16a1c2e981052eaae61151b9525ae9913f1f0d16bca6b7e7be9e0f29d739d2"
   }
  }
 },
 "nbformat": 4,
 "nbformat_minor": 2
}
