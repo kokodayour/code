{
 "cells": [
  {
   "cell_type": "code",
   "execution_count": 1,
   "metadata": {},
   "outputs": [],
   "source": [
    "#正则表达式是一种用来匹配字符串的工具\n",
    "import re"
   ]
  },
  {
   "cell_type": "code",
   "execution_count": null,
   "metadata": {},
   "outputs": [],
   "source": [
    "#1.创建一个匹配某个规则的正则表达式\n",
    "#2.用该正则表达式去匹配用户的输入来判断是否合法\n",
    "#正则表达式也是用字符表示的，首先需要知道如何用字符描述字符\n",
    "#\\d匹配数字， \\w匹配字母或数字， 转义字符前用\\， 如\\_, 表示_ .匹配所有\n",
    "#*表示任意个字符，+表示至少一个字符，\n",
    "#？表示0或1个字符，{n}表示n个字符，{n，m}表示n至m个字符\n",
    "#\\d{3,8}表示3-8个数字 \\d{3}\\-\\d{3-8}表示前三个数字加上-，再加上3-8个数字\n",
    "#[]表示范围，[0-9a-zA-Z\\_]可以匹配一个数字，字母或者下划线\n",
    "#A|B可以匹配A或者B，^\\d必须以数字开头，\\d$表示必须以数字结束"
   ]
  },
  {
   "cell_type": "code",
   "execution_count": 2,
   "metadata": {},
   "outputs": [
    {
     "data": {
      "text/plain": [
       "<re.Match object; span=(0, 9), match='010-12345'>"
      ]
     },
     "execution_count": 2,
     "metadata": {},
     "output_type": "execute_result"
    }
   ],
   "source": [
    "re.match(r'^\\d{3}\\-\\d{3,8}$','010-12345') #匹配成功返回一个match对象"
   ]
  },
  {
   "cell_type": "code",
   "execution_count": 3,
   "metadata": {},
   "outputs": [],
   "source": [
    "re.match(r'^\\d{3}\\-\\d{3,8}$','010-12345hhh') #匹配失败返回None"
   ]
  },
  {
   "cell_type": "code",
   "execution_count": 4,
   "metadata": {},
   "outputs": [
    {
     "data": {
      "text/plain": [
       "<re.Match object; span=(0, 9), match='010-12345'>"
      ]
     },
     "execution_count": 4,
     "metadata": {},
     "output_type": "execute_result"
    }
   ],
   "source": [
    "re.match(r'^\\d{3}\\-\\d{3,8}','010-12345hhh') #返回match，只要部分符合规则即可！"
   ]
  },
  {
   "cell_type": "code",
   "execution_count": 2,
   "metadata": {},
   "outputs": [
    {
     "name": "stdout",
     "output_type": "stream",
     "text": [
      "['a', 'b', '', '', 'c']\n",
      "['a', 'b', 'c']\n",
      "['a', 'b', 'c', 'd']\n"
     ]
    }
   ],
   "source": [
    "#用正则切分字符串\n",
    "print('a b   c'.split(' '))\n",
    "print(re.split(r'\\s+', 'a b   c'))\n",
    "print(re.split(r'[\\s\\,\\;]+','a,b;; c  d'))"
   ]
  },
  {
   "cell_type": "code",
   "execution_count": null,
   "metadata": {},
   "outputs": [],
   "source": [
    "#用正则分组\n",
    "m = re.match(r'^(\\d{3})-(\\d{3,8})$', '010-12345')\n",
    "print(m.group(0))\n",
    "print(m.group(1))\n",
    "print(m.group(2))\n",
    "print(m.groups())"
   ]
  },
  {
   "cell_type": "code",
   "execution_count": null,
   "metadata": {},
   "outputs": [],
   "source": [
    "#正则默认贪婪匹配， 默认匹配更多的字符\n",
    "print(re.match(r'^(\\d+)(0*)$', '102300').groups())\n",
    "#非贪婪匹配\n",
    "print(re.match(r'^(\\d+?)(0*)$', '102300').groups())"
   ]
  },
  {
   "cell_type": "code",
   "execution_count": null,
   "metadata": {},
   "outputs": [],
   "source": [
    "#当我们在python中使用正则表达式时，re模块内部会做两件事情\n",
    "#1.编译正则表达式，如果表达式本身就不成立则会报错\n",
    "#2.用编译后的正则表达式去匹配字符串\n",
    "#所以如果需要多次使用正则表达式，可以预编译模板，然后专心第二个步骤即可\n",
    "re_telephone = re.compile(r'^(\\d{3})-(\\d{3,8})$')\n",
    "print(re_telephone.match('010-12345').groups())\n",
    "print(re_telephone.match('010-2342738').groups())"
   ]
  },
  {
   "cell_type": "code",
   "execution_count": null,
   "metadata": {},
   "outputs": [],
   "source": [
    "# demo验证邮箱地址是否合法\n"
   ]
  }
 ],
 "metadata": {
  "kernelspec": {
   "display_name": "base",
   "language": "python",
   "name": "python3"
  },
  "language_info": {
   "codemirror_mode": {
    "name": "ipython",
    "version": 3
   },
   "file_extension": ".py",
   "mimetype": "text/x-python",
   "name": "python",
   "nbconvert_exporter": "python",
   "pygments_lexer": "ipython3",
   "version": "3.10.10"
  },
  "orig_nbformat": 4,
  "vscode": {
   "interpreter": {
    "hash": "fd16a1c2e981052eaae61151b9525ae9913f1f0d16bca6b7e7be9e0f29d739d2"
   }
  }
 },
 "nbformat": 4,
 "nbformat_minor": 2
}
