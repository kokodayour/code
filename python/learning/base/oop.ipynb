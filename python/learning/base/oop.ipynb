{
 "cells": [
  {
   "cell_type": "code",
   "execution_count": 5,
   "metadata": {},
   "outputs": [],
   "source": [
    "class Student():\n",
    "\n",
    "    # 相当于构造方法\n",
    "    # python不支持函数重载， 当定义多个同名函数时， 后面的函数总是会覆盖前面的\n",
    "    # def __init__(self) -> None:\n",
    "    #     pass\n",
    "    \n",
    "    def __init__(self, name:str = 'wdk', age:int = 18) -> None:\n",
    "        # 在变量前加上双下划线表示private\n",
    "        self.__name = name\n",
    "        self.__age = age\n",
    "        self.sex = 'male'\n",
    "\n",
    "    def get_name(self) -> str:\n",
    "        return self.__name\n",
    "\n",
    "    def set_name(self, name: str) -> None:\n",
    "        self.__name = name\n",
    "\n",
    "    def get_age(self) -> int:\n",
    "        return self.__age\n",
    "\n",
    "    def set_age(self, age: int) -> None:\n",
    "        self.__age = age\n",
    "\n",
    "    def greet(self) -> None:\n",
    "        print(\"Hello, world\")\n",
    "\n",
    "# 定义类时， 第一个参数表示要继承的类\n",
    "class Undergraduate(Student):\n",
    "\n",
    "    # 子类默认继承父类的方法， 除非重写\n",
    "    def greet(self) -> None:\n",
    "        print('Hello, 2333')\n",
    "\n",
    "class Master(Student):\n",
    "    pass\n",
    "\n",
    "class Animal():\n",
    "    \n",
    "    def greet(self):\n",
    "        print(\"wow\")"
   ]
  },
  {
   "cell_type": "code",
   "execution_count": 6,
   "metadata": {},
   "outputs": [
    {
     "name": "stdout",
     "output_type": "stream",
     "text": [
      "Hello, world\n",
      "Hello, 2333\n"
     ]
    },
    {
     "data": {
      "text/plain": [
       "20"
      ]
     },
     "execution_count": 6,
     "metadata": {},
     "output_type": "execute_result"
    }
   ],
   "source": [
    "a = Student()\n",
    "b = Undergraduate()\n",
    "c = Master('jack', 20)\n",
    "a.greet()\n",
    "b.greet()\n",
    "c.get_age()"
   ]
  }
 ],
 "metadata": {
  "kernelspec": {
   "display_name": "base",
   "language": "python",
   "name": "python3"
  },
  "language_info": {
   "codemirror_mode": {
    "name": "ipython",
    "version": 3
   },
   "file_extension": ".py",
   "mimetype": "text/x-python",
   "name": "python",
   "nbconvert_exporter": "python",
   "pygments_lexer": "ipython3",
   "version": "3.10.10"
  },
  "orig_nbformat": 4,
  "vscode": {
   "interpreter": {
    "hash": "fd16a1c2e981052eaae61151b9525ae9913f1f0d16bca6b7e7be9e0f29d739d2"
   }
  }
 },
 "nbformat": 4,
 "nbformat_minor": 2
}
