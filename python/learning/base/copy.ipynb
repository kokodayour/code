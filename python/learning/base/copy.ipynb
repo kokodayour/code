{
 "cells": [
  {
   "cell_type": "code",
   "execution_count": 13,
   "metadata": {},
   "outputs": [
    {
     "data": {
      "text/plain": [
       "[1, 2, 3, [4, 5]]"
      ]
     },
     "execution_count": 13,
     "metadata": {},
     "output_type": "execute_result"
    }
   ],
   "source": [
    "import copy\n",
    "\n",
    "a = [1, 2, 3, [4, 5]]\n",
    "b = a # 别名 修改a的同时修改b\n",
    "c = a.copy() # 浅拷贝: 不会拷贝父对象的子对象 即与父对象共享一个子对象\n",
    "d = copy.deepcopy(a) # 深拷贝: 完全拷贝\n",
    "a.insert(4, 6)\n",
    "a[3].append(7)\n",
    "\n",
    "a # [1, 2, 3, [4, 5, 7], 6]\n",
    "b # [1, 2, 3, [4, 5, 7], 6]\n",
    "c # [1, 2, 3, [4, 5, 7]]\n",
    "d # [1, 2, 3, [4, 5]]"
   ]
  },
  {
   "cell_type": "code",
   "execution_count": 27,
   "metadata": {},
   "outputs": [
    {
     "data": {
      "text/plain": [
       "'wdk'"
      ]
     },
     "execution_count": 28,
     "metadata": {},
     "output_type": "execute_result"
    }
   ],
   "source": [
    "# 如果函数传递的参数是可变变量 则传址 否则传参\n",
    "def func1(a:list):\n",
    "    a.append(4)\n",
    "    return a\n",
    "def func2(b:str):\n",
    "    b = b + 'handsome'\n",
    "    return b\n",
    "a = [1,2,3]\n",
    "func1(a) # [1, 2, 3, 4]\n",
    "a # [1, 2, 3, 4]\n",
    "b = 'wdk'\n",
    "func2(b) # 'wdkhandsome'\n",
    "b # 'wdk"
   ]
  }
 ],
 "metadata": {
  "kernelspec": {
   "display_name": "base",
   "language": "python",
   "name": "python3"
  },
  "language_info": {
   "codemirror_mode": {
    "name": "ipython",
    "version": 3
   },
   "file_extension": ".py",
   "mimetype": "text/x-python",
   "name": "python",
   "nbconvert_exporter": "python",
   "pygments_lexer": "ipython3",
   "version": "3.12.3"
  }
 },
 "nbformat": 4,
 "nbformat_minor": 2
}
