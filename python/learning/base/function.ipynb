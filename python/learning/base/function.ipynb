{
 "cells": [
  {
   "cell_type": "code",
   "execution_count": null,
   "metadata": {},
   "outputs": [],
   "source": [
    "#位置参数, 调用函数时必须传入有且仅有一个参数\n",
    "def power(x):\n",
    "    return x*x\n",
    "\n",
    "power(2)"
   ]
  },
  {
   "cell_type": "code",
   "execution_count": null,
   "metadata": {},
   "outputs": [],
   "source": [
    "#默认参数，即参数值默认的参数，不传入参数时为参数值为默认值\n",
    "#默认参数的后面不能是位置参数\n",
    "def power(x, n=2):\n",
    "    if(n==1):\n",
    "        return x\n",
    "    else:\n",
    "        return x*power(x, n-1)\n",
    "\n",
    "print(power(2))\n",
    "print(power(2, 3))\n",
    "\n",
    "def enroll(name, gender, age=6, city='Beijing'):\n",
    "    print('name:', name)\n",
    "    print('gender:', gender)\n",
    "    print('age:', age)\n",
    "    print('city:', city)\n",
    "    \n",
    "enroll('Sarah', 'F')\n",
    "enroll('jack', 'M',18,'WuHan')\n",
    "#默认按顺序名提供参数，若不按顺序名则需要把参数名写上\n",
    "enroll('jane','F',city='ShangHai')\n",
    "enroll('KangKang','F',city='HangZhou',age=18)\n",
    "\n",
    "#默认参数应该是不可变量，\n",
    "#如果每次调用函数时更改了默认值，则默认参数就不默认了\n",
    "def add_end(L=[]):\n",
    "    L.append('END')\n",
    "    return L\n",
    "print(add_end())\n",
    "print(add_end())\n",
    "print(add_end([1,2,3]))"
   ]
  },
  {
   "cell_type": "code",
   "execution_count": 4,
   "metadata": {},
   "outputs": [
    {
     "data": {
      "text/plain": [
       "(14, 30)"
      ]
     },
     "execution_count": 4,
     "metadata": {},
     "output_type": "execute_result"
    }
   ],
   "source": [
    "# 可变参数， 传入的参数个数是可变的， 组装成tuple\n",
    "def calc(*numbers):\n",
    "    sum = 0\n",
    "    for n in numbers:\n",
    "        sum += n*n\n",
    "    return sum\n",
    "\n",
    "# 如果已经有了一个list，要调用一个可变参数怎么办\n",
    "calc(1,2,3), calc(*[1, 2, 3, 4])"
   ]
  },
  {
   "cell_type": "code",
   "execution_count": 5,
   "metadata": {},
   "outputs": [
    {
     "name": "stdout",
     "output_type": "stream",
     "text": [
      "name: wdk \n",
      "age: 18 \n",
      "others: {} \n",
      "\n",
      "name: wy \n",
      "age: 28 \n",
      "others: {'city': 'gz'} \n",
      "\n",
      "name: tao \n",
      "age: 30 \n",
      "others: {'city': 'beijing', 'sex': 'male'} \n",
      "\n"
     ]
    }
   ],
   "source": [
    "# 关键字参数， 传入的参数个数是可变的， 组装成dict\n",
    "def person(name, age, **kw):\n",
    "    print('name:', name, '\\nage:', age, '\\nothers:', kw, '\\n')\n",
    "\n",
    "\n",
    "person('wdk', 18)\n",
    "person('wy', 28, city='gz')\n",
    "\n",
    "# 同样可以传入一个dict作为关键字参数\n",
    "extra = {\n",
    "    'city': 'beijing',\n",
    "    'sex': 'male'\n",
    "}\n",
    "person('tao', 30, **extra)\n"
   ]
  },
  {
   "cell_type": "code",
   "execution_count": 8,
   "metadata": {},
   "outputs": [
    {
     "name": "stdout",
     "output_type": "stream",
     "text": [
      "ds 20 gz account\n",
      "ds 20 (1, 2) wuhan {}\n"
     ]
    }
   ],
   "source": [
    "# 关键字参数可以传入不受限制的参数， 我们需要在函数内部检查传入的变量\n",
    "# 如果需要限制传入的关键字参数的名字， 可以使用命名关键字参数\n",
    "# 传入命名关键字参数时一定要传入参数名\n",
    "# 可以与默认参数搭配， 非必要传入city关键字参数\n",
    "def person(name, age, *, city='wuhan', job):\n",
    "    print(name, age, city, job)\n",
    "\n",
    "\n",
    "person('ds', 20, city='gz', job='account')\n",
    "# person('ds', 20, citys = 'gz', job = 'account') # person() got an unexpected keyword argument 'citys'\n",
    "\n",
    "# 如果函数定义中已经有了一个可变参数了， 后面的命名关键字参数就不需要*作为分隔符了\n",
    "\n",
    "\n",
    "def person(name, age, *agrs, city='wuhan', **job):\n",
    "    print(name, age, agrs, city, job)\n",
    "\n",
    "\n",
    "person('ds', 20,  *(1, 2))"
   ]
  }
 ],
 "metadata": {
  "kernelspec": {
   "display_name": "base",
   "language": "python",
   "name": "python3"
  },
  "language_info": {
   "codemirror_mode": {
    "name": "ipython",
    "version": 3
   },
   "file_extension": ".py",
   "mimetype": "text/x-python",
   "name": "python",
   "nbconvert_exporter": "python",
   "pygments_lexer": "ipython3",
   "version": "3.10.10"
  },
  "orig_nbformat": 4,
  "vscode": {
   "interpreter": {
    "hash": "fd16a1c2e981052eaae61151b9525ae9913f1f0d16bca6b7e7be9e0f29d739d2"
   }
  }
 },
 "nbformat": 4,
 "nbformat_minor": 2
}
