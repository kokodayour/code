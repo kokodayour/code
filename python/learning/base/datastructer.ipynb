{
 "cells": [
  {
   "cell_type": "code",
   "execution_count": null,
   "metadata": {},
   "outputs": [],
   "source": [
    "# 列表，相当于可以存放不同数据类型(还包括list等)的可变数组\n",
    "classmates = ['Michael', 'Bob', 'Tracy',12,80,'Bob']\n",
    "\n",
    "# 通过索引获取元素\n",
    "classmates[0]\n",
    "classmates[-1]\n",
    "\n",
    "# 常用api\n",
    "classmates.append(\"wdk\") #追加末尾元素\n",
    "classmates.pop() #删除末尾元素\n",
    "classmates.pop(2) #删除指定位置元素\n",
    "classmates.insert(1,\"hhhhhh\") #插入到指定的位置\n",
    "classmates.remove('Bob') # 移除指定元素 仅移除一次 从左往右"
   ]
  },
  {
   "cell_type": "code",
   "execution_count": null,
   "metadata": {},
   "outputs": [],
   "source": [
    "# 字典 相当于哈希表\n",
    "d = {\n",
    "    'a':1,\n",
    "    'b':2,\n",
    "    'c':3\n",
    "}\n",
    "# 删除键pop(key)\n",
    "d.pop('a')\n",
    "# 增加键 索引操作符[]\n",
    "d['d'] = 4\n",
    "# 或者使用update方法合并字典 键存在则更新 否则添加键\n",
    "d.update({'d':5,'f':6})\n",
    "# 查找 get不存在的话返回None或指定值 以免在不知道是否存在某个key的时候调用key\n",
    "d.get('a',2333)\n",
    "# 返回所有的键\n",
    "d.keys()\n",
    "# 返回字典中键的个数\n",
    "len(d)\n",
    "# 弹出key 并返回对应的value\n",
    "d.pop('b') # 2"
   ]
  },
  {
   "cell_type": "code",
   "execution_count": 7,
   "metadata": {},
   "outputs": [
    {
     "data": {
      "text/plain": [
       "{1, 2}"
      ]
     },
     "execution_count": 7,
     "metadata": {},
     "output_type": "execute_result"
    }
   ],
   "source": [
    "# 集合 顾名思义 具有数学上集合的特点 无序且唯一\n",
    "a = {1,2,3,4,5}\n",
    "b = {3,4,5,6,7}\n",
    "a.add(10) # 添加元素 可添加相同的元素 但没意义\n",
    "a.remove(10) # 删除元素\n",
    "# 交并差操作\n",
    "a | b\n",
    "a & b\n",
    "a - b"
   ]
  }
 ],
 "metadata": {
  "kernelspec": {
   "display_name": "base",
   "language": "python",
   "name": "python3"
  },
  "language_info": {
   "codemirror_mode": {
    "name": "ipython",
    "version": 3
   },
   "file_extension": ".py",
   "mimetype": "text/x-python",
   "name": "python",
   "nbconvert_exporter": "python",
   "pygments_lexer": "ipython3",
   "version": "3.12.3"
  },
  "orig_nbformat": 4,
  "vscode": {
   "interpreter": {
    "hash": "fd16a1c2e981052eaae61151b9525ae9913f1f0d16bca6b7e7be9e0f29d739d2"
   }
  }
 },
 "nbformat": 4,
 "nbformat_minor": 2
}
