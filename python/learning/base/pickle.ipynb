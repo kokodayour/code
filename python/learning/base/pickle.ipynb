{
 "cells": [
  {
   "cell_type": "code",
   "execution_count": 1,
   "metadata": {},
   "outputs": [],
   "source": [
    "import pickle"
   ]
  },
  {
   "cell_type": "code",
   "execution_count": 2,
   "metadata": {},
   "outputs": [],
   "source": [
    "data = {\n",
    "    'name': 'wdk',\n",
    "    'age': 18,\n",
    "    'address': 'whu'\n",
    "}\n",
    "\n",
    "# 序列化\n",
    "with open('../data/data.pickle', 'wb') as file:\n",
    "    pickle.dump(data, file)\n",
    "# 反序列化\n",
    "with open('../data/data.pickle', 'rb') as file:\n",
    "    data = pickle.load(file)"
   ]
  }
 ],
 "metadata": {
  "kernelspec": {
   "display_name": "base",
   "language": "python",
   "name": "python3"
  },
  "language_info": {
   "codemirror_mode": {
    "name": "ipython",
    "version": 3
   },
   "file_extension": ".py",
   "mimetype": "text/x-python",
   "name": "python",
   "nbconvert_exporter": "python",
   "pygments_lexer": "ipython3",
   "version": "3.12.3"
  }
 },
 "nbformat": 4,
 "nbformat_minor": 2
}
