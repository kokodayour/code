{
 "cells": [
  {
   "cell_type": "code",
   "execution_count": 1,
   "metadata": {},
   "outputs": [],
   "source": [
    "import os # 操作系统相关 如文件目录\n",
    "import sys # 解释器 工作环境相关"
   ]
  },
  {
   "cell_type": "code",
   "execution_count": null,
   "metadata": {},
   "outputs": [],
   "source": [
    "# 列出路径下的所有文件和文件夹\n",
    "for file in os.listdir():\n",
    "# 判断文件是否以csv结尾\n",
    "    file.endswith('csv')\n",
    "# 链接路径\n",
    "fold_path = r'd:\\c\\python'\n",
    "os.path.join(fold_path, r'learning\\base\\os.ipynb')\n",
    "# 添加父目录\n",
    "sys.path.append(os.pardir)"
   ]
  }
 ],
 "metadata": {
  "kernelspec": {
   "display_name": "base",
   "language": "python",
   "name": "python3"
  },
  "language_info": {
   "codemirror_mode": {
    "name": "ipython",
    "version": 3
   },
   "file_extension": ".py",
   "mimetype": "text/x-python",
   "name": "python",
   "nbconvert_exporter": "python",
   "pygments_lexer": "ipython3",
   "version": "3.12.3"
  }
 },
 "nbformat": 4,
 "nbformat_minor": 2
}
