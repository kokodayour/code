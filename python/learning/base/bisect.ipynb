{
 "cells": [
  {
   "cell_type": "code",
   "execution_count": null,
   "metadata": {},
   "outputs": [],
   "source": [
    "import bisect\n",
    "\n",
    "a = [1,3,5,7,7,7,7,7,7,9]\n",
    "# 在有序列表a中查找元素x的插入位置 返回最左侧的索引\n",
    "bisect.bisect_left(a,7) # 3\n",
    "# 同上 但返回最右侧的索引\n",
    "bisect.bisect_right(a,7) # 9\n",
    "# 插入到左侧\n",
    "bisect.insort_left(a,6)\n",
    "# 插入到右侧\n",
    "bisect.insort_right(a,6)"
   ]
  }
 ],
 "metadata": {
  "kernelspec": {
   "display_name": "base",
   "language": "python",
   "name": "python3"
  },
  "language_info": {
   "codemirror_mode": {
    "name": "ipython",
    "version": 3
   },
   "file_extension": ".py",
   "mimetype": "text/x-python",
   "name": "python",
   "nbconvert_exporter": "python",
   "pygments_lexer": "ipython3",
   "version": "3.12.3"
  }
 },
 "nbformat": 4,
 "nbformat_minor": 2
}
