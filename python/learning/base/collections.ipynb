{
 "cells": [
  {
   "cell_type": "code",
   "execution_count": null,
   "metadata": {},
   "outputs": [],
   "source": [
    "from collections import Counter # 计数器 统计字符出现的次数 dict的子类\n",
    "\n",
    "c = Counter()\n",
    "for ch in 'programmer': # 等同于 c = Counter('programmer')\n",
    "    c[ch] += 1\n",
    "print(c)\n",
    "\n",
    "c.update('hello') # 统计字符出现的次数 并且追加到原来的计数器\n",
    "print(c)\n",
    "\n",
    "# Counter对象之间可以比较大小 甚至还可以加减\n",
    "Counter('Hellohello') >= Counter('Hello')\n",
    "Counter('Helloworld') - Counter('Hello')\n",
    "\n",
    "# 其余操作类似于dict 并可以对不存在的key进行计数操作 如c['a'] += 1 即使'a'并不存在"
   ]
  },
  {
   "cell_type": "code",
   "execution_count": null,
   "metadata": {},
   "outputs": [],
   "source": [
    "from collections import defaultdict # 默认字典\n",
    "\n",
    "d = defaultdict(int)\n",
    "d['a'] += 1\n",
    "d"
   ]
  },
  {
   "cell_type": "code",
   "execution_count": null,
   "metadata": {},
   "outputs": [],
   "source": [
    "from collections import namedtuple # 给元组的索引一个名称\n",
    "\n",
    "Point = namedtuple('Point', ['x', 'y'])\n",
    "p = Point(1,2)\n",
    "print(p.x)\n",
    "print(p.y)"
   ]
  },
  {
   "cell_type": "code",
   "execution_count": null,
   "metadata": {},
   "outputs": [],
   "source": [
    "import heapq\n",
    "\n",
    "lst = [3, 1, 4, 1, 5, 9, 2, 6, 5, 3, 5]\n",
    "heapq.heapify(lst) # 原地建小堆 O(n) 若\n",
    "heapq.heappush(lst,5) # 将元素推入堆中 并保留堆的性质 O(logn)\n",
    "heapq.heappop(lst) # 弹出堆顶元素 并保留堆的性质 O(logn)\n",
    "heapq.heappushpop(lst,7) # 先将元素推入堆中 再弹出堆顶元素\n",
    "heapq.nsmallest(3, lst) # 返回堆中最小的三个数 维护有k个元素的最小堆 O(nlogk)\n",
    "heapq.nlargest(3, lst) # 返回堆中最大的三个数\n",
    "# print(lst)"
   ]
  },
  {
   "cell_type": "code",
   "execution_count": null,
   "metadata": {},
   "outputs": [],
   "source": [
    "from sortedcontainers import SortedList\n",
    "\n",
    "# 创建容器\n",
    "s1 = SortedList([3, 1, 4, 1, 5, 9, 2, 6, 5])\n",
    "# 插入元素\n",
    "s1.add(7)\n",
    "# 删除元素\n",
    "s1.discard(1)"
   ]
  },
  {
   "cell_type": "code",
   "execution_count": null,
   "metadata": {},
   "outputs": [],
   "source": [
    "from sortedcontainers import SortedDict\n",
    "\n",
    "# 创建容器\n",
    "sd = SortedDict({1:4,\n",
    "                 2:1,\n",
    "                 3:3})\n",
    "# 插入元素\n",
    "sd[5] = 4\n",
    "# 范围查询\n",
    "sd.keys()[1:3]"
   ]
  },
  {
   "cell_type": "code",
   "execution_count": null,
   "metadata": {},
   "outputs": [],
   "source": [
    "from sortedcontainers import SortedSet\n",
    "\n",
    "# 创建容器\n",
    "ss = SortedSet([3,1,4,1,5,9,2,6,5])\n",
    "# 插入元素\n",
    "ss.add(7)\n",
    "# 删除元素\n",
    "ss.discard(1)"
   ]
  }
 ],
 "metadata": {
  "kernelspec": {
   "display_name": "base",
   "language": "python",
   "name": "python3"
  },
  "language_info": {
   "codemirror_mode": {
    "name": "ipython",
    "version": 3
   },
   "file_extension": ".py",
   "mimetype": "text/x-python",
   "name": "python",
   "nbconvert_exporter": "python",
   "pygments_lexer": "ipython3",
   "version": "3.12.3"
  }
 },
 "nbformat": 4,
 "nbformat_minor": 2
}
