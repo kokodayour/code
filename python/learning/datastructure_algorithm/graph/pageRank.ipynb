{
 "cells": [
  {
   "cell_type": "markdown",
   "metadata": {},
   "source": [
    "`PageRank`用于评估网页的重要性, 主要思想有两条\n",
    "- 指向A网页的网页越多, A网页越重要\n",
    "- 被A网页指向的网页重要"
   ]
  },
  {
   "cell_type": "markdown",
   "metadata": {},
   "source": [
    "`优点`\n",
    "- 客观，一定程度上避免了人为排名的影响\n",
    "- 可以离线计算，而非查找的时候计算，提高了查询时的效率\n",
    "\n",
    "`缺点`\n",
    "- 存在时间久的网页PR值越来越大，而新网页的PR值增长慢\n",
    "- 通过僵尸网络可以恶意地刷PR值\n",
    "- 只注重链接而不注重内容\n",
    "- 不考虑用户行为\n",
    "- 主题漂移\n"
   ]
  }
 ],
 "metadata": {
  "language_info": {
   "name": "python"
  }
 },
 "nbformat": 4,
 "nbformat_minor": 2
}
