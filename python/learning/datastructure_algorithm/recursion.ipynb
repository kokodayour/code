{
 "cells": [
  {
   "cell_type": "markdown",
   "metadata": {},
   "source": [
    "### 递归递归 先递再归\n",
    "\n",
    "类比于数学归纳法 if是基线条件(当n=1时命题成立) else后是原问题与子问题之间的关系(当n=m时命题成立 推导n=m+1时命题成立) 也就是如何根据func(n-1) func(n-2)推出现在的func(n) 先依次递进到基线条件 如阶乘中要将x递进到1 顺序打印中要将10除后的商递进到0 在依次回归到原问题    \n",
    "如阶乘中先返回1作为func(2)中的func(x-1) 再返回func(2)的结果作为func(3)中的func(x-1)以此类推  \n",
    "有些函数没有返回值 如顺序打印 直接执行完剩下的部分 但注意变量的作用域!!!  \n",
    "每一次递进或者回归都有一个栈帧 可能变量名是一样的 但每个栈帧的数据是独属的"
   ]
  },
  {
   "cell_type": "markdown",
   "metadata": {},
   "source": [
    "遇到稍微比较复杂的问题的时候, 不要去纠结递归函数本身的运算过程, 要善于将递归函数进行打包思考运算(比如汉诺塔, n=3时可以一步步的推出运算过程, 但不要纠结n=4时是怎么一步步推出来的, 这时候已经需要22步了, 而是要学会将递归函数打包:我已经有了一个func(3)可以将三层塔)"
   ]
  },
  {
   "cell_type": "markdown",
   "metadata": {},
   "source": [
    "1) 明确这个函数要做什么\n",
    "2) 确定退出条件\n",
    "3) 找出函数的等价关系式"
   ]
  },
  {
   "cell_type": "code",
   "execution_count": null,
   "metadata": {},
   "outputs": [],
   "source": [
    "def func(x:int)->int: # 计算阶乘\n",
    "    if x == 1:\n",
    "        return 1\n",
    "    else:\n",
    "        return x*func(x-1)\n",
    "func(4)"
   ]
  },
  {
   "cell_type": "code",
   "execution_count": null,
   "metadata": {},
   "outputs": [],
   "source": [
    "def func(x:int)->int: # 顺序打印\n",
    "    if x == 0:\n",
    "        return\n",
    "    else:\n",
    "        shang, yushu = divmod(x,10)\n",
    "        func(shang)\n",
    "        print(yushu, end=' ')\n",
    "func(123)"
   ]
  },
  {
   "cell_type": "code",
   "execution_count": null,
   "metadata": {},
   "outputs": [],
   "source": [
    "def func(x:int)->int:\n",
    "    if x == 1 or x == 2:\n",
    "        return 1\n",
    "    else:\n",
    "        return func(x-1) + func(x-2)\n",
    "func(7)"
   ]
  },
  {
   "cell_type": "code",
   "execution_count": null,
   "metadata": {},
   "outputs": [],
   "source": [
    "cnt = 0\n",
    "def func(n:int,a:str,b:str,c:str):\n",
    "    global cnt\n",
    "    cnt += 1\n",
    "    if n == 1:\n",
    "        # print(f'{a}->{c}')\n",
    "        return \n",
    "    else:\n",
    "        func(n-1,a,c,b)\n",
    "        func(1,a,b,c)\n",
    "        func(n-1,b,a,c)\n",
    "func(64,'A', 'B', 'C')\n",
    "cnt"
   ]
  },
  {
   "cell_type": "code",
   "execution_count": null,
   "metadata": {},
   "outputs": [],
   "source": [
    "def func(n:int)->int: # 青蛙跳台\n",
    "    if n == 1:\n",
    "        return 1\n",
    "    elif n == 2:\n",
    "        return 2\n",
    "    else:\n",
    "        return func(n-1) + func(n-2)\n",
    "func(7)"
   ]
  },
  {
   "cell_type": "code",
   "execution_count": null,
   "metadata": {},
   "outputs": [],
   "source": [
    "class Node:\n",
    "    def __init__(self, data:int, next=None) -> None:\n",
    "        self.data = data\n",
    "        self.next = next\n",
    "\n",
    "\n",
    "def func(node): # 这个函数功能是翻转链表\n",
    "    if node.next is None:\n",
    "        return node\n",
    "    else:\n",
    "        reversed_node = func(node.next) # 不是又开辟了一块内存, 而是将链表反转的一部分命名为reversed_node\n",
    "        # 这时候的reversed_node指向是4->3->2,返回到初始栈帧\n",
    "        node.next.next = node # node的指向是2, 将2的指向改成1\n",
    "        node.next = None\n",
    "    return reversed_node\n",
    "\n",
    "node1 = Node(1)\n",
    "node2 = Node(2)\n",
    "node3 = Node(3)\n",
    "node4 = Node(4)\n",
    "node5 = Node(5)\n",
    "node1.next = node2\n",
    "node2.next = node3\n",
    "node3.next = node4\n",
    "node4.next = node5\n",
    "func(node1).next.data"
   ]
  },
  {
   "cell_type": "code",
   "execution_count": null,
   "metadata": {},
   "outputs": [],
   "source": [
    "class root:\n",
    "    def __init__(self,data,left=None,right=None) -> None:\n",
    "        root.data = data\n",
    "        root.left = left\n",
    "        root.right = right\n",
    "\n",
    "def maxDepth(root): # 计算二叉树最大深度\n",
    "    ans = 0\n",
    "    def func(node, cnt): # cnt是当前深度, ans是最大深度\n",
    "        if node is None:\n",
    "            return\n",
    "        cnt += 1\n",
    "        nonlocal ans\n",
    "        ans = max(ans, cnt) # 比较 然后更新最大深度\n",
    "        func(node.left,cnt)\n",
    "        func(node.right,cnt)\n",
    "    func(root,0)\n",
    "    return ans"
   ]
  },
  {
   "cell_type": "code",
   "execution_count": null,
   "metadata": {},
   "outputs": [],
   "source": [
    "def func(n):\n",
    "    print(n%10)\n",
    "    if n > 10:\n",
    "        func(int(n/10))\n",
    "func(123)"
   ]
  }
 ],
 "metadata": {
  "kernelspec": {
   "display_name": "base",
   "language": "python",
   "name": "python3"
  },
  "language_info": {
   "codemirror_mode": {
    "name": "ipython",
    "version": 3
   },
   "file_extension": ".py",
   "mimetype": "text/x-python",
   "name": "python",
   "nbconvert_exporter": "python",
   "pygments_lexer": "ipython3",
   "version": "3.12.3"
  }
 },
 "nbformat": 4,
 "nbformat_minor": 2
}
