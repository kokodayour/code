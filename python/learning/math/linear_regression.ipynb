{
 "cells": [
  {
   "cell_type": "code",
   "execution_count": 1,
   "metadata": {},
   "outputs": [],
   "source": [
    "import numpy as np"
   ]
  },
  {
   "cell_type": "code",
   "execution_count": null,
   "metadata": {},
   "outputs": [],
   "source": [
    "# 模拟数据\n",
    "x = np.random.rand(100, 1)\n",
    "y = 2*x + 3 + np.random.randn(100, 1)*0.5\n",
    "\n",
    "# 构造特征矩阵X(添加偏置项)\n",
    "m = x.shape[0]\n",
    "X = np.concatenate([np.ones((m, 1)), x], axis=1)"
   ]
  },
  {
   "cell_type": "code",
   "execution_count": null,
   "metadata": {},
   "outputs": [],
   "source": [
    "import numpy as np\n",
    "\n",
    "\n",
    "# 生成一些模拟数据（简单示例，真实应用中数据来自实际采集等）\n",
    "np.random.seed(0)\n",
    "x = np.random.rand(100, 1)\n",
    "y = 2 * x + 3 + np.random.randn(100, 1) * 0.5  # 真实关系是 y = 2x + 3 加上一些噪声\n",
    "\n",
    "# 构造特征矩阵 X（添加偏置项）\n",
    "m = x.shape[0]\n",
    "X = np.concatenate([np.ones((m, 1)), x], axis=1)\n",
    "\n",
    "# 根据公式计算参数 theta\n",
    "theta = np.linalg.inv(X.T.dot(X)).dot(X.T).dot(y)\n",
    "\n",
    "# 输出学习到的参数\n",
    "print(\"theta0 (截距):\", theta[0][0])\n",
    "print(\"theta1 (斜率):\", theta[1][0])\n",
    "\n",
    "# 进行预测（可以选择一个新的 x 值来预测对应的 y 值）\n",
    "new_x = np.array([[0.5]])  # 示例新的输入值\n",
    "new_x_with_bias = np.concatenate([np.ones((1, 1)), new_x], axis=1)\n",
    "predicted_y = new_x_with_bias@theta\n",
    "print(\"预测的 y 值:\", predicted_y[0][0])"
   ]
  }
 ],
 "metadata": {
  "kernelspec": {
   "display_name": "base",
   "language": "python",
   "name": "python3"
  },
  "language_info": {
   "codemirror_mode": {
    "name": "ipython",
    "version": 3
   },
   "file_extension": ".py",
   "mimetype": "text/x-python",
   "name": "python",
   "nbconvert_exporter": "python",
   "pygments_lexer": "ipython3",
   "version": "3.12.3"
  }
 },
 "nbformat": 4,
 "nbformat_minor": 2
}
